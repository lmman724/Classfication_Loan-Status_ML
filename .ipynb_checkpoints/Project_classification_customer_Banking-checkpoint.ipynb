{
 "cells": [
  {
   "cell_type": "markdown",
   "id": "7feeeef8",
   "metadata": {},
   "source": [
    "<center>\n",
    "    <img src=\"https://cf-courses-data.s3.us.cloud-object-storage.appdomain.cloud/IBMDeveloperSkillsNetwork-ML0101EN-SkillsNetwork/labs/FinalModule_Coursera/images/IDSNlogo.png\" width=\"300\" alt=\"cognitiveclass.ai logo\"  />\n",
    "</center>\n",
    "<h1 align=\"center\"><font size=\"5\">DEVELOP MODEL TO CLASSIFICATION TYPE CUSUMER IN BANKING</font></h1>"
   ]
  },
  {
   "cell_type": "markdown",
   "id": "7fea4968",
   "metadata": {},
   "source": [
    "# 1. DATASET IN PROJECT"
   ]
  },
  {
   "cell_type": "markdown",
   "id": "0b618238",
   "metadata": {},
   "source": [
    "This dataset is about past loans. The **Loan_train.csv** data set includes details of 346 customers whose loan are already paid off or defaulted. It includes following fields:\n",
    "\n",
    "| Field          | Description                                                                           |\n",
    "| -------------- | ------------------------------------------------------------------------------------- |\n",
    "| Loan_status    | Whether a loan is paid off on in collection                                           |\n",
    "| Principal      | Basic principal loan amount at the                                                    |\n",
    "| Terms          | Origination terms which can be weekly (7 days), biweekly, and monthly payoff schedule |\n",
    "| Effective_date | When the loan got originated and took effects                                         |\n",
    "| Due_date       | Since it’s one-time payoff schedule, each loan has one single due date                |\n",
    "| Age            | Age of applicant                                                                      |\n",
    "| Education      | Education of applicant                                                                |\n",
    "| Gender         | The gender of applicant      "
   ]
  },
  {
   "cell_type": "markdown",
   "id": "4b4403b6",
   "metadata": {},
   "source": [
    "# 2. DATA ANALYST"
   ]
  },
  {
   "cell_type": "markdown",
   "id": "7233fc00",
   "metadata": {},
   "source": [
    "# 2.1 import data"
   ]
  },
  {
   "cell_type": "markdown",
   "id": "6a4e7915",
   "metadata": {},
   "source": [
    "### Load all library needed:"
   ]
  },
  {
   "cell_type": "code",
   "execution_count": 77,
   "id": "1b02daae",
   "metadata": {},
   "outputs": [
    {
     "name": "stdout",
     "output_type": "stream",
     "text": [
      "All library was imported\n"
     ]
    }
   ],
   "source": [
    "import pandas as pd\n",
    "import numpy as np\n",
    "\n",
    "import matplotlib.pyplot as plt\n",
    "%matplotlib inline\n",
    "import seaborn as sns\n",
    "\n",
    "from sklearn.model_selection import train_test_split\n",
    "from sklearn import preprocessing\n",
    "\n",
    "from sklearn.metrics import f1_score\n",
    "from sklearn.metrics import jaccard_score\n",
    "from sklearn.metrics import log_loss\n",
    "from sklearn.metrics import classification_report\n",
    "from sklearn.metrics import plot_confusion_matrix\n",
    "\n",
    "print(\"All library was imported\")"
   ]
  },
  {
   "cell_type": "markdown",
   "id": "37dc10f8",
   "metadata": {},
   "source": [
    "### Import dataset"
   ]
  },
  {
   "cell_type": "code",
   "execution_count": 7,
   "id": "117f8d7e",
   "metadata": {
    "tags": []
   },
   "outputs": [
    {
     "data": {
      "text/html": [
       "<div>\n",
       "<style scoped>\n",
       "    .dataframe tbody tr th:only-of-type {\n",
       "        vertical-align: middle;\n",
       "    }\n",
       "\n",
       "    .dataframe tbody tr th {\n",
       "        vertical-align: top;\n",
       "    }\n",
       "\n",
       "    .dataframe thead th {\n",
       "        text-align: right;\n",
       "    }\n",
       "</style>\n",
       "<table border=\"1\" class=\"dataframe\">\n",
       "  <thead>\n",
       "    <tr style=\"text-align: right;\">\n",
       "      <th></th>\n",
       "      <th>Unnamed: 0</th>\n",
       "      <th>Unnamed: 0.1</th>\n",
       "      <th>loan_status</th>\n",
       "      <th>Principal</th>\n",
       "      <th>terms</th>\n",
       "      <th>effective_date</th>\n",
       "      <th>due_date</th>\n",
       "      <th>age</th>\n",
       "      <th>education</th>\n",
       "      <th>Gender</th>\n",
       "    </tr>\n",
       "  </thead>\n",
       "  <tbody>\n",
       "    <tr>\n",
       "      <th>0</th>\n",
       "      <td>0</td>\n",
       "      <td>0</td>\n",
       "      <td>PAIDOFF</td>\n",
       "      <td>1000</td>\n",
       "      <td>30</td>\n",
       "      <td>9/8/2016</td>\n",
       "      <td>10/7/2016</td>\n",
       "      <td>45</td>\n",
       "      <td>High School or Below</td>\n",
       "      <td>male</td>\n",
       "    </tr>\n",
       "    <tr>\n",
       "      <th>1</th>\n",
       "      <td>2</td>\n",
       "      <td>2</td>\n",
       "      <td>PAIDOFF</td>\n",
       "      <td>1000</td>\n",
       "      <td>30</td>\n",
       "      <td>9/8/2016</td>\n",
       "      <td>10/7/2016</td>\n",
       "      <td>33</td>\n",
       "      <td>Bechalor</td>\n",
       "      <td>female</td>\n",
       "    </tr>\n",
       "    <tr>\n",
       "      <th>2</th>\n",
       "      <td>3</td>\n",
       "      <td>3</td>\n",
       "      <td>PAIDOFF</td>\n",
       "      <td>1000</td>\n",
       "      <td>15</td>\n",
       "      <td>9/8/2016</td>\n",
       "      <td>9/22/2016</td>\n",
       "      <td>27</td>\n",
       "      <td>college</td>\n",
       "      <td>male</td>\n",
       "    </tr>\n",
       "    <tr>\n",
       "      <th>3</th>\n",
       "      <td>4</td>\n",
       "      <td>4</td>\n",
       "      <td>PAIDOFF</td>\n",
       "      <td>1000</td>\n",
       "      <td>30</td>\n",
       "      <td>9/9/2016</td>\n",
       "      <td>10/8/2016</td>\n",
       "      <td>28</td>\n",
       "      <td>college</td>\n",
       "      <td>female</td>\n",
       "    </tr>\n",
       "    <tr>\n",
       "      <th>4</th>\n",
       "      <td>6</td>\n",
       "      <td>6</td>\n",
       "      <td>PAIDOFF</td>\n",
       "      <td>1000</td>\n",
       "      <td>30</td>\n",
       "      <td>9/9/2016</td>\n",
       "      <td>10/8/2016</td>\n",
       "      <td>29</td>\n",
       "      <td>college</td>\n",
       "      <td>male</td>\n",
       "    </tr>\n",
       "  </tbody>\n",
       "</table>\n",
       "</div>"
      ],
      "text/plain": [
       "   Unnamed: 0  Unnamed: 0.1 loan_status  Principal  terms effective_date  \\\n",
       "0           0             0     PAIDOFF       1000     30       9/8/2016   \n",
       "1           2             2     PAIDOFF       1000     30       9/8/2016   \n",
       "2           3             3     PAIDOFF       1000     15       9/8/2016   \n",
       "3           4             4     PAIDOFF       1000     30       9/9/2016   \n",
       "4           6             6     PAIDOFF       1000     30       9/9/2016   \n",
       "\n",
       "    due_date  age             education  Gender  \n",
       "0  10/7/2016   45  High School or Below    male  \n",
       "1  10/7/2016   33              Bechalor  female  \n",
       "2  9/22/2016   27               college    male  \n",
       "3  10/8/2016   28               college  female  \n",
       "4  10/8/2016   29               college    male  "
      ]
     },
     "execution_count": 7,
     "metadata": {},
     "output_type": "execute_result"
    }
   ],
   "source": [
    "df = pd.read_csv(\"https://cf-courses-data.s3.us.cloud-object-storage.appdomain.cloud/IBMDeveloperSkillsNetwork-ML0101EN-SkillsNetwork/labs/FinalModule_Coursera/data/loan_train.csv\")\n",
    "df.head()"
   ]
  },
  {
   "cell_type": "code",
   "execution_count": 8,
   "id": "54e5e935",
   "metadata": {},
   "outputs": [],
   "source": [
    "df = df.drop([\"Unnamed: 0\", \"Unnamed: 0.1\"], axis = \"columns\")"
   ]
  },
  {
   "cell_type": "code",
   "execution_count": 9,
   "id": "15b37fb9",
   "metadata": {},
   "outputs": [
    {
     "name": "stdout",
     "output_type": "stream",
     "text": [
      "Columns and feature in dataset: (346, 8)\n"
     ]
    }
   ],
   "source": [
    "print(\"Columns and feature in dataset:\", df.shape)"
   ]
  },
  {
   "cell_type": "markdown",
   "id": "8ec0449a",
   "metadata": {},
   "source": [
    "### Cover dataframe to time_data object"
   ]
  },
  {
   "cell_type": "code",
   "execution_count": 10,
   "id": "b11f12c1",
   "metadata": {},
   "outputs": [],
   "source": [
    "df[\"effective_date\"]= pd.to_datetime(df[\"effective_date\"])\n",
    "df[\"due_date\"] = pd.to_datetime(df[\"due_date\"])"
   ]
  },
  {
   "cell_type": "code",
   "execution_count": 11,
   "id": "b35a2016",
   "metadata": {},
   "outputs": [
    {
     "data": {
      "text/html": [
       "<div>\n",
       "<style scoped>\n",
       "    .dataframe tbody tr th:only-of-type {\n",
       "        vertical-align: middle;\n",
       "    }\n",
       "\n",
       "    .dataframe tbody tr th {\n",
       "        vertical-align: top;\n",
       "    }\n",
       "\n",
       "    .dataframe thead th {\n",
       "        text-align: right;\n",
       "    }\n",
       "</style>\n",
       "<table border=\"1\" class=\"dataframe\">\n",
       "  <thead>\n",
       "    <tr style=\"text-align: right;\">\n",
       "      <th></th>\n",
       "      <th>loan_status</th>\n",
       "      <th>Principal</th>\n",
       "      <th>terms</th>\n",
       "      <th>effective_date</th>\n",
       "      <th>due_date</th>\n",
       "      <th>age</th>\n",
       "      <th>education</th>\n",
       "      <th>Gender</th>\n",
       "    </tr>\n",
       "  </thead>\n",
       "  <tbody>\n",
       "    <tr>\n",
       "      <th>0</th>\n",
       "      <td>PAIDOFF</td>\n",
       "      <td>1000</td>\n",
       "      <td>30</td>\n",
       "      <td>2016-09-08</td>\n",
       "      <td>2016-10-07</td>\n",
       "      <td>45</td>\n",
       "      <td>High School or Below</td>\n",
       "      <td>male</td>\n",
       "    </tr>\n",
       "    <tr>\n",
       "      <th>1</th>\n",
       "      <td>PAIDOFF</td>\n",
       "      <td>1000</td>\n",
       "      <td>30</td>\n",
       "      <td>2016-09-08</td>\n",
       "      <td>2016-10-07</td>\n",
       "      <td>33</td>\n",
       "      <td>Bechalor</td>\n",
       "      <td>female</td>\n",
       "    </tr>\n",
       "    <tr>\n",
       "      <th>2</th>\n",
       "      <td>PAIDOFF</td>\n",
       "      <td>1000</td>\n",
       "      <td>15</td>\n",
       "      <td>2016-09-08</td>\n",
       "      <td>2016-09-22</td>\n",
       "      <td>27</td>\n",
       "      <td>college</td>\n",
       "      <td>male</td>\n",
       "    </tr>\n",
       "    <tr>\n",
       "      <th>3</th>\n",
       "      <td>PAIDOFF</td>\n",
       "      <td>1000</td>\n",
       "      <td>30</td>\n",
       "      <td>2016-09-09</td>\n",
       "      <td>2016-10-08</td>\n",
       "      <td>28</td>\n",
       "      <td>college</td>\n",
       "      <td>female</td>\n",
       "    </tr>\n",
       "    <tr>\n",
       "      <th>4</th>\n",
       "      <td>PAIDOFF</td>\n",
       "      <td>1000</td>\n",
       "      <td>30</td>\n",
       "      <td>2016-09-09</td>\n",
       "      <td>2016-10-08</td>\n",
       "      <td>29</td>\n",
       "      <td>college</td>\n",
       "      <td>male</td>\n",
       "    </tr>\n",
       "  </tbody>\n",
       "</table>\n",
       "</div>"
      ],
      "text/plain": [
       "  loan_status  Principal  terms effective_date   due_date  age  \\\n",
       "0     PAIDOFF       1000     30     2016-09-08 2016-10-07   45   \n",
       "1     PAIDOFF       1000     30     2016-09-08 2016-10-07   33   \n",
       "2     PAIDOFF       1000     15     2016-09-08 2016-09-22   27   \n",
       "3     PAIDOFF       1000     30     2016-09-09 2016-10-08   28   \n",
       "4     PAIDOFF       1000     30     2016-09-09 2016-10-08   29   \n",
       "\n",
       "              education  Gender  \n",
       "0  High School or Below    male  \n",
       "1              Bechalor  female  \n",
       "2               college    male  \n",
       "3               college  female  \n",
       "4               college    male  "
      ]
     },
     "execution_count": 11,
     "metadata": {},
     "output_type": "execute_result"
    }
   ],
   "source": [
    "df.head()"
   ]
  },
  {
   "cell_type": "markdown",
   "id": "08e4bfcc",
   "metadata": {},
   "source": [
    "## 2.2 Finding more infomation about data"
   ]
  },
  {
   "cell_type": "markdown",
   "id": "830c01dc",
   "metadata": {},
   "source": [
    "### Cover data_time to week name"
   ]
  },
  {
   "cell_type": "code",
   "execution_count": 12,
   "id": "6dd52692",
   "metadata": {},
   "outputs": [],
   "source": [
    "df[\"day_of_name\"] = df[\"effective_date\"].dt.day_name()"
   ]
  },
  {
   "cell_type": "code",
   "execution_count": 13,
   "id": "f31911c5",
   "metadata": {},
   "outputs": [],
   "source": [
    "df[\"day_of_name_number\"] = df[\"effective_date\"].dt.dayofweek"
   ]
  },
  {
   "cell_type": "code",
   "execution_count": 14,
   "id": "4ff38032",
   "metadata": {},
   "outputs": [
    {
     "data": {
      "text/html": [
       "<div>\n",
       "<style scoped>\n",
       "    .dataframe tbody tr th:only-of-type {\n",
       "        vertical-align: middle;\n",
       "    }\n",
       "\n",
       "    .dataframe tbody tr th {\n",
       "        vertical-align: top;\n",
       "    }\n",
       "\n",
       "    .dataframe thead th {\n",
       "        text-align: right;\n",
       "    }\n",
       "</style>\n",
       "<table border=\"1\" class=\"dataframe\">\n",
       "  <thead>\n",
       "    <tr style=\"text-align: right;\">\n",
       "      <th></th>\n",
       "      <th>loan_status</th>\n",
       "      <th>Principal</th>\n",
       "      <th>terms</th>\n",
       "      <th>effective_date</th>\n",
       "      <th>due_date</th>\n",
       "      <th>age</th>\n",
       "      <th>education</th>\n",
       "      <th>Gender</th>\n",
       "      <th>day_of_name</th>\n",
       "      <th>day_of_name_number</th>\n",
       "    </tr>\n",
       "  </thead>\n",
       "  <tbody>\n",
       "    <tr>\n",
       "      <th>0</th>\n",
       "      <td>PAIDOFF</td>\n",
       "      <td>1000</td>\n",
       "      <td>30</td>\n",
       "      <td>2016-09-08</td>\n",
       "      <td>2016-10-07</td>\n",
       "      <td>45</td>\n",
       "      <td>High School or Below</td>\n",
       "      <td>male</td>\n",
       "      <td>Thursday</td>\n",
       "      <td>3</td>\n",
       "    </tr>\n",
       "    <tr>\n",
       "      <th>1</th>\n",
       "      <td>PAIDOFF</td>\n",
       "      <td>1000</td>\n",
       "      <td>30</td>\n",
       "      <td>2016-09-08</td>\n",
       "      <td>2016-10-07</td>\n",
       "      <td>33</td>\n",
       "      <td>Bechalor</td>\n",
       "      <td>female</td>\n",
       "      <td>Thursday</td>\n",
       "      <td>3</td>\n",
       "    </tr>\n",
       "    <tr>\n",
       "      <th>2</th>\n",
       "      <td>PAIDOFF</td>\n",
       "      <td>1000</td>\n",
       "      <td>15</td>\n",
       "      <td>2016-09-08</td>\n",
       "      <td>2016-09-22</td>\n",
       "      <td>27</td>\n",
       "      <td>college</td>\n",
       "      <td>male</td>\n",
       "      <td>Thursday</td>\n",
       "      <td>3</td>\n",
       "    </tr>\n",
       "    <tr>\n",
       "      <th>3</th>\n",
       "      <td>PAIDOFF</td>\n",
       "      <td>1000</td>\n",
       "      <td>30</td>\n",
       "      <td>2016-09-09</td>\n",
       "      <td>2016-10-08</td>\n",
       "      <td>28</td>\n",
       "      <td>college</td>\n",
       "      <td>female</td>\n",
       "      <td>Friday</td>\n",
       "      <td>4</td>\n",
       "    </tr>\n",
       "    <tr>\n",
       "      <th>4</th>\n",
       "      <td>PAIDOFF</td>\n",
       "      <td>1000</td>\n",
       "      <td>30</td>\n",
       "      <td>2016-09-09</td>\n",
       "      <td>2016-10-08</td>\n",
       "      <td>29</td>\n",
       "      <td>college</td>\n",
       "      <td>male</td>\n",
       "      <td>Friday</td>\n",
       "      <td>4</td>\n",
       "    </tr>\n",
       "  </tbody>\n",
       "</table>\n",
       "</div>"
      ],
      "text/plain": [
       "  loan_status  Principal  terms effective_date   due_date  age  \\\n",
       "0     PAIDOFF       1000     30     2016-09-08 2016-10-07   45   \n",
       "1     PAIDOFF       1000     30     2016-09-08 2016-10-07   33   \n",
       "2     PAIDOFF       1000     15     2016-09-08 2016-09-22   27   \n",
       "3     PAIDOFF       1000     30     2016-09-09 2016-10-08   28   \n",
       "4     PAIDOFF       1000     30     2016-09-09 2016-10-08   29   \n",
       "\n",
       "              education  Gender day_of_name  day_of_name_number  \n",
       "0  High School or Below    male    Thursday                   3  \n",
       "1              Bechalor  female    Thursday                   3  \n",
       "2               college    male    Thursday                   3  \n",
       "3               college  female      Friday                   4  \n",
       "4               college    male      Friday                   4  "
      ]
     },
     "execution_count": 14,
     "metadata": {},
     "output_type": "execute_result"
    }
   ],
   "source": [
    "df.head()"
   ]
  },
  {
   "cell_type": "markdown",
   "id": "a70716f1",
   "metadata": {},
   "source": [
    "### Infomation about each of feature categories in dateset"
   ]
  },
  {
   "cell_type": "code",
   "execution_count": 15,
   "id": "f19bd66c",
   "metadata": {},
   "outputs": [
    {
     "data": {
      "text/plain": [
       "PAIDOFF       260\n",
       "COLLECTION     86\n",
       "Name: loan_status, dtype: int64"
      ]
     },
     "execution_count": 15,
     "metadata": {},
     "output_type": "execute_result"
    }
   ],
   "source": [
    "df[\"loan_status\"].value_counts()"
   ]
  },
  {
   "cell_type": "code",
   "execution_count": 16,
   "id": "61ba54a2",
   "metadata": {},
   "outputs": [
    {
     "data": {
      "text/plain": [
       "1000    258\n",
       "800      81\n",
       "300       3\n",
       "900       2\n",
       "500       2\n",
       "Name: Principal, dtype: int64"
      ]
     },
     "execution_count": 16,
     "metadata": {},
     "output_type": "execute_result"
    }
   ],
   "source": [
    "df[\"Principal\"].value_counts()"
   ]
  },
  {
   "cell_type": "code",
   "execution_count": 17,
   "id": "223fe159",
   "metadata": {},
   "outputs": [
    {
     "data": {
      "text/plain": [
       "30    184\n",
       "15    148\n",
       "7      14\n",
       "Name: terms, dtype: int64"
      ]
     },
     "execution_count": 17,
     "metadata": {},
     "output_type": "execute_result"
    }
   ],
   "source": [
    "df[\"terms\"].value_counts()"
   ]
  },
  {
   "cell_type": "code",
   "execution_count": 18,
   "id": "4e10342e",
   "metadata": {},
   "outputs": [
    {
     "data": {
      "text/plain": [
       "High School or Below    151\n",
       "college                 149\n",
       "Bechalor                 44\n",
       "Master or Above           2\n",
       "Name: education, dtype: int64"
      ]
     },
     "execution_count": 18,
     "metadata": {},
     "output_type": "execute_result"
    }
   ],
   "source": [
    "df[\"education\"].value_counts()"
   ]
  },
  {
   "cell_type": "code",
   "execution_count": 19,
   "id": "0c18b8ed",
   "metadata": {},
   "outputs": [
    {
     "data": {
      "text/plain": [
       "male      294\n",
       "female     52\n",
       "Name: Gender, dtype: int64"
      ]
     },
     "execution_count": 19,
     "metadata": {},
     "output_type": "execute_result"
    }
   ],
   "source": [
    "df[\"Gender\"].value_counts()"
   ]
  },
  {
   "cell_type": "markdown",
   "id": "ea540c17",
   "metadata": {},
   "source": [
    "## 2.3 Relative about each of feature in dataset "
   ]
  },
  {
   "cell_type": "markdown",
   "id": "abd4d12c",
   "metadata": {},
   "source": [
    "### Feature loan_status and  day_of_name"
   ]
  },
  {
   "cell_type": "code",
   "execution_count": 20,
   "id": "743c0c4b",
   "metadata": {},
   "outputs": [
    {
     "data": {
      "text/html": [
       "<div>\n",
       "<style scoped>\n",
       "    .dataframe tbody tr th:only-of-type {\n",
       "        vertical-align: middle;\n",
       "    }\n",
       "\n",
       "    .dataframe tbody tr th {\n",
       "        vertical-align: top;\n",
       "    }\n",
       "\n",
       "    .dataframe thead th {\n",
       "        text-align: right;\n",
       "    }\n",
       "</style>\n",
       "<table border=\"1\" class=\"dataframe\">\n",
       "  <thead>\n",
       "    <tr style=\"text-align: right;\">\n",
       "      <th></th>\n",
       "      <th>day_of_name</th>\n",
       "      <th>loan_status</th>\n",
       "      <th>percentage</th>\n",
       "    </tr>\n",
       "  </thead>\n",
       "  <tbody>\n",
       "    <tr>\n",
       "      <th>0</th>\n",
       "      <td>Friday</td>\n",
       "      <td>COLLECTION</td>\n",
       "      <td>0.500000</td>\n",
       "    </tr>\n",
       "    <tr>\n",
       "      <th>1</th>\n",
       "      <td>Friday</td>\n",
       "      <td>PAIDOFF</td>\n",
       "      <td>0.500000</td>\n",
       "    </tr>\n",
       "    <tr>\n",
       "      <th>2</th>\n",
       "      <td>Monday</td>\n",
       "      <td>PAIDOFF</td>\n",
       "      <td>0.965517</td>\n",
       "    </tr>\n",
       "    <tr>\n",
       "      <th>3</th>\n",
       "      <td>Monday</td>\n",
       "      <td>COLLECTION</td>\n",
       "      <td>0.034483</td>\n",
       "    </tr>\n",
       "    <tr>\n",
       "      <th>4</th>\n",
       "      <td>Saturday</td>\n",
       "      <td>PAIDOFF</td>\n",
       "      <td>0.548387</td>\n",
       "    </tr>\n",
       "    <tr>\n",
       "      <th>5</th>\n",
       "      <td>Saturday</td>\n",
       "      <td>COLLECTION</td>\n",
       "      <td>0.451613</td>\n",
       "    </tr>\n",
       "    <tr>\n",
       "      <th>6</th>\n",
       "      <td>Sunday</td>\n",
       "      <td>PAIDOFF</td>\n",
       "      <td>0.608434</td>\n",
       "    </tr>\n",
       "    <tr>\n",
       "      <th>7</th>\n",
       "      <td>Sunday</td>\n",
       "      <td>COLLECTION</td>\n",
       "      <td>0.391566</td>\n",
       "    </tr>\n",
       "    <tr>\n",
       "      <th>8</th>\n",
       "      <td>Thursday</td>\n",
       "      <td>PAIDOFF</td>\n",
       "      <td>1.000000</td>\n",
       "    </tr>\n",
       "    <tr>\n",
       "      <th>9</th>\n",
       "      <td>Tuesday</td>\n",
       "      <td>PAIDOFF</td>\n",
       "      <td>1.000000</td>\n",
       "    </tr>\n",
       "    <tr>\n",
       "      <th>10</th>\n",
       "      <td>Wednesday</td>\n",
       "      <td>PAIDOFF</td>\n",
       "      <td>1.000000</td>\n",
       "    </tr>\n",
       "  </tbody>\n",
       "</table>\n",
       "</div>"
      ],
      "text/plain": [
       "   day_of_name loan_status  percentage\n",
       "0       Friday  COLLECTION    0.500000\n",
       "1       Friday     PAIDOFF    0.500000\n",
       "2       Monday     PAIDOFF    0.965517\n",
       "3       Monday  COLLECTION    0.034483\n",
       "4     Saturday     PAIDOFF    0.548387\n",
       "5     Saturday  COLLECTION    0.451613\n",
       "6       Sunday     PAIDOFF    0.608434\n",
       "7       Sunday  COLLECTION    0.391566\n",
       "8     Thursday     PAIDOFF    1.000000\n",
       "9      Tuesday     PAIDOFF    1.000000\n",
       "10   Wednesday     PAIDOFF    1.000000"
      ]
     },
     "execution_count": 20,
     "metadata": {},
     "output_type": "execute_result"
    }
   ],
   "source": [
    "df_date_name = df[[\"day_of_name\", \"loan_status\"]]\n",
    "df_groupby_date_name = (df_date_name.groupby([\"day_of_name\"])[\"loan_status\"]\n",
    "                        .value_counts(normalize=True)\n",
    "                        .rename(\"percentage\")\n",
    "                        .reset_index()\n",
    "                        .sort_values(\"day_of_name\"))\n",
    "df_groupby_date_name"
   ]
  },
  {
   "cell_type": "code",
   "execution_count": 21,
   "id": "f6dbc00a",
   "metadata": {},
   "outputs": [
    {
     "data": {
      "text/plain": [
       "<AxesSubplot:xlabel='day_of_name', ylabel='count'>"
      ]
     },
     "execution_count": 21,
     "metadata": {},
     "output_type": "execute_result"
    },
    {
     "data": {
      "image/png": "[encoded data removed]",
      "text/plain": [
       "<Figure size 432x288 with 1 Axes>"
      ]
     },
     "metadata": {
      "needs_background": "light"
     },
     "output_type": "display_data"
    }
   ],
   "source": [
    "sns.countplot(x= \"day_of_name\", hue = \"loan_status\", data = df_date_name)"
   ]
  },
  {
   "cell_type": "markdown",
   "id": "cdb3a1d4",
   "metadata": {},
   "source": [
    "We see that people who get the loan at the end of the week don't pay it off ( the  number collection is high), so I split data in effective_date become two class: \n",
    "* Class 1: monday, tuesday, wednesday, thursday; \n",
    "* Class 2: friday, saturday, sunday.\n"
   ]
  },
  {
   "cell_type": "markdown",
   "id": "60c315c4",
   "metadata": {},
   "source": [
    "Let's convert class 1 to 0 and class 2 to 1:"
   ]
  },
  {
   "cell_type": "code",
   "execution_count": 22,
   "id": "8c0bdcd5",
   "metadata": {},
   "outputs": [],
   "source": [
    "df[\"weekend\"] = df[\"day_of_name_number\"].apply(lambda x: 1 if (x> 3) else 0)"
   ]
  },
  {
   "cell_type": "code",
   "execution_count": 23,
   "id": "34185649",
   "metadata": {},
   "outputs": [
    {
     "data": {
      "text/html": [
       "<div>\n",
       "<style scoped>\n",
       "    .dataframe tbody tr th:only-of-type {\n",
       "        vertical-align: middle;\n",
       "    }\n",
       "\n",
       "    .dataframe tbody tr th {\n",
       "        vertical-align: top;\n",
       "    }\n",
       "\n",
       "    .dataframe thead th {\n",
       "        text-align: right;\n",
       "    }\n",
       "</style>\n",
       "<table border=\"1\" class=\"dataframe\">\n",
       "  <thead>\n",
       "    <tr style=\"text-align: right;\">\n",
       "      <th></th>\n",
       "      <th>loan_status</th>\n",
       "      <th>Principal</th>\n",
       "      <th>terms</th>\n",
       "      <th>effective_date</th>\n",
       "      <th>due_date</th>\n",
       "      <th>age</th>\n",
       "      <th>education</th>\n",
       "      <th>Gender</th>\n",
       "      <th>day_of_name</th>\n",
       "      <th>day_of_name_number</th>\n",
       "      <th>weekend</th>\n",
       "    </tr>\n",
       "  </thead>\n",
       "  <tbody>\n",
       "    <tr>\n",
       "      <th>0</th>\n",
       "      <td>PAIDOFF</td>\n",
       "      <td>1000</td>\n",
       "      <td>30</td>\n",
       "      <td>2016-09-08</td>\n",
       "      <td>2016-10-07</td>\n",
       "      <td>45</td>\n",
       "      <td>High School or Below</td>\n",
       "      <td>male</td>\n",
       "      <td>Thursday</td>\n",
       "      <td>3</td>\n",
       "      <td>0</td>\n",
       "    </tr>\n",
       "    <tr>\n",
       "      <th>1</th>\n",
       "      <td>PAIDOFF</td>\n",
       "      <td>1000</td>\n",
       "      <td>30</td>\n",
       "      <td>2016-09-08</td>\n",
       "      <td>2016-10-07</td>\n",
       "      <td>33</td>\n",
       "      <td>Bechalor</td>\n",
       "      <td>female</td>\n",
       "      <td>Thursday</td>\n",
       "      <td>3</td>\n",
       "      <td>0</td>\n",
       "    </tr>\n",
       "    <tr>\n",
       "      <th>2</th>\n",
       "      <td>PAIDOFF</td>\n",
       "      <td>1000</td>\n",
       "      <td>15</td>\n",
       "      <td>2016-09-08</td>\n",
       "      <td>2016-09-22</td>\n",
       "      <td>27</td>\n",
       "      <td>college</td>\n",
       "      <td>male</td>\n",
       "      <td>Thursday</td>\n",
       "      <td>3</td>\n",
       "      <td>0</td>\n",
       "    </tr>\n",
       "    <tr>\n",
       "      <th>3</th>\n",
       "      <td>PAIDOFF</td>\n",
       "      <td>1000</td>\n",
       "      <td>30</td>\n",
       "      <td>2016-09-09</td>\n",
       "      <td>2016-10-08</td>\n",
       "      <td>28</td>\n",
       "      <td>college</td>\n",
       "      <td>female</td>\n",
       "      <td>Friday</td>\n",
       "      <td>4</td>\n",
       "      <td>1</td>\n",
       "    </tr>\n",
       "    <tr>\n",
       "      <th>4</th>\n",
       "      <td>PAIDOFF</td>\n",
       "      <td>1000</td>\n",
       "      <td>30</td>\n",
       "      <td>2016-09-09</td>\n",
       "      <td>2016-10-08</td>\n",
       "      <td>29</td>\n",
       "      <td>college</td>\n",
       "      <td>male</td>\n",
       "      <td>Friday</td>\n",
       "      <td>4</td>\n",
       "      <td>1</td>\n",
       "    </tr>\n",
       "  </tbody>\n",
       "</table>\n",
       "</div>"
      ],
      "text/plain": [
       "  loan_status  Principal  terms effective_date   due_date  age  \\\n",
       "0     PAIDOFF       1000     30     2016-09-08 2016-10-07   45   \n",
       "1     PAIDOFF       1000     30     2016-09-08 2016-10-07   33   \n",
       "2     PAIDOFF       1000     15     2016-09-08 2016-09-22   27   \n",
       "3     PAIDOFF       1000     30     2016-09-09 2016-10-08   28   \n",
       "4     PAIDOFF       1000     30     2016-09-09 2016-10-08   29   \n",
       "\n",
       "              education  Gender day_of_name  day_of_name_number  weekend  \n",
       "0  High School or Below    male    Thursday                   3        0  \n",
       "1              Bechalor  female    Thursday                   3        0  \n",
       "2               college    male    Thursday                   3        0  \n",
       "3               college  female      Friday                   4        1  \n",
       "4               college    male      Friday                   4        1  "
      ]
     },
     "execution_count": 23,
     "metadata": {},
     "output_type": "execute_result"
    }
   ],
   "source": [
    "df.head()"
   ]
  },
  {
   "cell_type": "markdown",
   "id": "c6b8c854",
   "metadata": {},
   "source": [
    "### Feature loan_status and Gender"
   ]
  },
  {
   "cell_type": "code",
   "execution_count": 25,
   "id": "91471717",
   "metadata": {},
   "outputs": [
    {
     "data": {
      "text/plain": [
       "Gender  loan_status\n",
       "female  PAIDOFF        0.865385\n",
       "        COLLECTION     0.134615\n",
       "male    PAIDOFF        0.731293\n",
       "        COLLECTION     0.268707\n",
       "Name: loan_status, dtype: float64"
      ]
     },
     "execution_count": 25,
     "metadata": {},
     "output_type": "execute_result"
    }
   ],
   "source": [
    "df_gender = df[[\"Gender\", \"loan_status\"]]\n",
    "df_gender_groupby = (df_gender.groupby([\"Gender\"])[\"loan_status\"]\n",
    "                     .value_counts(normalize=True))\n",
    "                     \n",
    "                     \n",
    "df_gender_groupby.head()"
   ]
  },
  {
   "cell_type": "code",
   "execution_count": 26,
   "id": "4cee97d5",
   "metadata": {},
   "outputs": [
    {
     "data": {
      "text/plain": [
       "<AxesSubplot:xlabel='Gender', ylabel='count'>"
      ]
     },
     "execution_count": 26,
     "metadata": {},
     "output_type": "execute_result"
    },
    {
     "data": {
      "image/png": "[encoded data removed]",
      "text/plain": [
       "<Figure size 432x288 with 1 Axes>"
      ]
     },
     "metadata": {
      "needs_background": "light"
     },
     "output_type": "display_data"
    }
   ],
   "source": [
    "sns.countplot(x = \"Gender\", hue = \"loan_status\", data = df_gender)"
   ]
  },
  {
   "cell_type": "markdown",
   "id": "96d7f4c4",
   "metadata": {},
   "source": [
    "### Feature education and loan_status"
   ]
  },
  {
   "cell_type": "code",
   "execution_count": 27,
   "id": "3f0167e3",
   "metadata": {},
   "outputs": [],
   "source": [
    "df_education = df[[\"education\",\"loan_status\"]]"
   ]
  },
  {
   "cell_type": "code",
   "execution_count": 28,
   "id": "49a17665",
   "metadata": {},
   "outputs": [
    {
     "data": {
      "text/plain": [
       "<AxesSubplot:xlabel='education', ylabel='count'>"
      ]
     },
     "execution_count": 28,
     "metadata": {},
     "output_type": "execute_result"
    },
    {
     "data": {
      "image/png": "[encoded data removed]",
      "text/plain": [
       "<Figure size 432x288 with 1 Axes>"
      ]
     },
     "metadata": {
      "needs_background": "light"
     },
     "output_type": "display_data"
    }
   ],
   "source": [
    "sns.countplot(x = \"education\", hue = \"loan_status\", data = df_education)"
   ]
  },
  {
   "cell_type": "code",
   "execution_count": 29,
   "id": "5c67336a",
   "metadata": {},
   "outputs": [
    {
     "data": {
      "text/plain": [
       "education             loan_status\n",
       "Bechalor              PAIDOFF        0.750000\n",
       "                      COLLECTION     0.250000\n",
       "High School or Below  PAIDOFF        0.741722\n",
       "                      COLLECTION     0.258278\n",
       "Master or Above       COLLECTION     0.500000\n",
       "                      PAIDOFF        0.500000\n",
       "college               PAIDOFF        0.765101\n",
       "                      COLLECTION     0.234899\n",
       "Name: loan_status, dtype: float64"
      ]
     },
     "execution_count": 29,
     "metadata": {},
     "output_type": "execute_result"
    }
   ],
   "source": [
    "df_groupby_edu = (df_education.groupby([\"education\"])['loan_status']\n",
    "                  .value_counts(normalize = True))\n",
    "df_groupby_edu\n",
    "                  "
   ]
  },
  {
   "cell_type": "code",
   "execution_count": 30,
   "id": "5aee57ff",
   "metadata": {},
   "outputs": [],
   "source": [
    "df_terms = df[[\"terms\", \"loan_status\"]]"
   ]
  },
  {
   "cell_type": "code",
   "execution_count": 31,
   "id": "3309cb97",
   "metadata": {},
   "outputs": [
    {
     "data": {
      "text/plain": [
       "<AxesSubplot:xlabel='terms', ylabel='count'>"
      ]
     },
     "execution_count": 31,
     "metadata": {},
     "output_type": "execute_result"
    },
    {
     "data": {
      "image/png": "[encoded data removed]",
      "text/plain": [
       "<Figure size 432x288 with 1 Axes>"
      ]
     },
     "metadata": {
      "needs_background": "light"
     },
     "output_type": "display_data"
    }
   ],
   "source": [
    "sns.countplot(x = \"terms\", hue = \"loan_status\", data = df_terms)"
   ]
  },
  {
   "cell_type": "code",
   "execution_count": 32,
   "id": "d5596a9c",
   "metadata": {},
   "outputs": [
    {
     "data": {
      "text/plain": [
       "terms  loan_status\n",
       "7      PAIDOFF        1.000000\n",
       "15     PAIDOFF        0.770270\n",
       "       COLLECTION     0.229730\n",
       "30     PAIDOFF        0.717391\n",
       "       COLLECTION     0.282609\n",
       "Name: loan_status, dtype: float64"
      ]
     },
     "execution_count": 32,
     "metadata": {},
     "output_type": "execute_result"
    }
   ],
   "source": [
    "df_groupby_terms = df_terms.groupby([\"terms\"])[\"loan_status\"].value_counts(normalize = True)\n",
    "df_groupby_terms"
   ]
  },
  {
   "cell_type": "code",
   "execution_count": 33,
   "id": "e709edb5",
   "metadata": {},
   "outputs": [],
   "source": [
    "df_terms_education = df[[\"terms\", \"education\"]]"
   ]
  },
  {
   "cell_type": "code",
   "execution_count": 34,
   "id": "5312d30c",
   "metadata": {},
   "outputs": [
    {
     "data": {
      "text/plain": [
       "<AxesSubplot:xlabel='terms', ylabel='count'>"
      ]
     },
     "execution_count": 34,
     "metadata": {},
     "output_type": "execute_result"
    },
    {
     "data": {
      "image/png": "[encoded data removed]",
      "text/plain": [
       "<Figure size 432x288 with 1 Axes>"
      ]
     },
     "metadata": {
      "needs_background": "light"
     },
     "output_type": "display_data"
    }
   ],
   "source": [
    "sns.countplot(x = \"terms\", hue = \"education\", data = df_terms_education)"
   ]
  },
  {
   "cell_type": "code",
   "execution_count": 35,
   "id": "51803cc3",
   "metadata": {},
   "outputs": [
    {
     "data": {
      "text/plain": [
       "terms  education           \n",
       "7      college                 0.500000\n",
       "       High School or Below    0.357143\n",
       "       Bechalor                0.142857\n",
       "15     college                 0.452703\n",
       "       High School or Below    0.385135\n",
       "       Bechalor                0.148649\n",
       "       Master or Above         0.013514\n",
       "30     High School or Below    0.483696\n",
       "       college                 0.407609\n",
       "       Bechalor                0.108696\n",
       "Name: education, dtype: float64"
      ]
     },
     "execution_count": 35,
     "metadata": {},
     "output_type": "execute_result"
    }
   ],
   "source": [
    "df_terms_education_groupby = df_terms_education.groupby([\"terms\"])[\"education\"].value_counts(normalize = True)\n",
    "df_terms_education_groupby"
   ]
  },
  {
   "cell_type": "code",
   "execution_count": 36,
   "id": "6021548f",
   "metadata": {},
   "outputs": [],
   "source": [
    "df_terms_gender = df[[\"terms\", \"Gender\"]]"
   ]
  },
  {
   "cell_type": "code",
   "execution_count": 37,
   "id": "3b7c2b55",
   "metadata": {},
   "outputs": [
    {
     "data": {
      "text/plain": [
       "<AxesSubplot:xlabel='terms', ylabel='count'>"
      ]
     },
     "execution_count": 37,
     "metadata": {},
     "output_type": "execute_result"
    },
    {
     "data": {
      "image/png": "[encoded data removed]",
      "text/plain": [
       "<Figure size 432x288 with 1 Axes>"
      ]
     },
     "metadata": {
      "needs_background": "light"
     },
     "output_type": "display_data"
    }
   ],
   "source": [
    "sns.countplot(x = \"terms\", hue = \"Gender\", data = df_terms_gender)"
   ]
  },
  {
   "cell_type": "markdown",
   "id": "e083b17c",
   "metadata": {},
   "source": [
    "# 3. PRE - PROCESSING DATA"
   ]
  },
  {
   "cell_type": "markdown",
   "id": "35aa9fc0",
   "metadata": {},
   "source": [
    "## 3.1 Cover categories feature to numberal feature"
   ]
  },
  {
   "cell_type": "code",
   "execution_count": 38,
   "id": "f55418cf",
   "metadata": {},
   "outputs": [
    {
     "data": {
      "text/plain": [
       "0      0\n",
       "1      1\n",
       "2      0\n",
       "3      1\n",
       "4      0\n",
       "      ..\n",
       "341    0\n",
       "342    0\n",
       "343    0\n",
       "344    0\n",
       "345    0\n",
       "Name: Gender, Length: 346, dtype: int64"
      ]
     },
     "execution_count": 38,
     "metadata": {},
     "output_type": "execute_result"
    }
   ],
   "source": [
    "df[\"Gender\"] = df[\"Gender\"].replace(to_replace = [\"male\", \"female\"], value = [0, 1])\n",
    "df[\"Gender\"]"
   ]
  },
  {
   "cell_type": "code",
   "execution_count": 39,
   "id": "0fa020ed",
   "metadata": {},
   "outputs": [],
   "source": [
    "df[\"loan_status\"] = df[\"loan_status\"].replace(to_replace = [\"PAIDOFF\", \"COLLECTION\"], value = [0, 1])"
   ]
  },
  {
   "cell_type": "code",
   "execution_count": 40,
   "id": "903a1445",
   "metadata": {},
   "outputs": [],
   "source": [
    "df[\"education\"] = df[\"education\"].replace(to_replace = [\"High School or Below\", \"college\", \"Bechalor\", \"Master or Above\"]\n",
    "                                          , value = [0, 1, 2, 3])"
   ]
  },
  {
   "cell_type": "code",
   "execution_count": 41,
   "id": "2ea24e0d",
   "metadata": {},
   "outputs": [
    {
     "data": {
      "text/html": [
       "<div>\n",
       "<style scoped>\n",
       "    .dataframe tbody tr th:only-of-type {\n",
       "        vertical-align: middle;\n",
       "    }\n",
       "\n",
       "    .dataframe tbody tr th {\n",
       "        vertical-align: top;\n",
       "    }\n",
       "\n",
       "    .dataframe thead th {\n",
       "        text-align: right;\n",
       "    }\n",
       "</style>\n",
       "<table border=\"1\" class=\"dataframe\">\n",
       "  <thead>\n",
       "    <tr style=\"text-align: right;\">\n",
       "      <th></th>\n",
       "      <th>loan_status</th>\n",
       "      <th>Principal</th>\n",
       "      <th>terms</th>\n",
       "      <th>effective_date</th>\n",
       "      <th>due_date</th>\n",
       "      <th>age</th>\n",
       "      <th>education</th>\n",
       "      <th>Gender</th>\n",
       "      <th>day_of_name</th>\n",
       "      <th>day_of_name_number</th>\n",
       "      <th>weekend</th>\n",
       "    </tr>\n",
       "  </thead>\n",
       "  <tbody>\n",
       "    <tr>\n",
       "      <th>0</th>\n",
       "      <td>0</td>\n",
       "      <td>1000</td>\n",
       "      <td>30</td>\n",
       "      <td>2016-09-08</td>\n",
       "      <td>2016-10-07</td>\n",
       "      <td>45</td>\n",
       "      <td>0</td>\n",
       "      <td>0</td>\n",
       "      <td>Thursday</td>\n",
       "      <td>3</td>\n",
       "      <td>0</td>\n",
       "    </tr>\n",
       "    <tr>\n",
       "      <th>1</th>\n",
       "      <td>0</td>\n",
       "      <td>1000</td>\n",
       "      <td>30</td>\n",
       "      <td>2016-09-08</td>\n",
       "      <td>2016-10-07</td>\n",
       "      <td>33</td>\n",
       "      <td>2</td>\n",
       "      <td>1</td>\n",
       "      <td>Thursday</td>\n",
       "      <td>3</td>\n",
       "      <td>0</td>\n",
       "    </tr>\n",
       "    <tr>\n",
       "      <th>2</th>\n",
       "      <td>0</td>\n",
       "      <td>1000</td>\n",
       "      <td>15</td>\n",
       "      <td>2016-09-08</td>\n",
       "      <td>2016-09-22</td>\n",
       "      <td>27</td>\n",
       "      <td>1</td>\n",
       "      <td>0</td>\n",
       "      <td>Thursday</td>\n",
       "      <td>3</td>\n",
       "      <td>0</td>\n",
       "    </tr>\n",
       "    <tr>\n",
       "      <th>3</th>\n",
       "      <td>0</td>\n",
       "      <td>1000</td>\n",
       "      <td>30</td>\n",
       "      <td>2016-09-09</td>\n",
       "      <td>2016-10-08</td>\n",
       "      <td>28</td>\n",
       "      <td>1</td>\n",
       "      <td>1</td>\n",
       "      <td>Friday</td>\n",
       "      <td>4</td>\n",
       "      <td>1</td>\n",
       "    </tr>\n",
       "    <tr>\n",
       "      <th>4</th>\n",
       "      <td>0</td>\n",
       "      <td>1000</td>\n",
       "      <td>30</td>\n",
       "      <td>2016-09-09</td>\n",
       "      <td>2016-10-08</td>\n",
       "      <td>29</td>\n",
       "      <td>1</td>\n",
       "      <td>0</td>\n",
       "      <td>Friday</td>\n",
       "      <td>4</td>\n",
       "      <td>1</td>\n",
       "    </tr>\n",
       "  </tbody>\n",
       "</table>\n",
       "</div>"
      ],
      "text/plain": [
       "   loan_status  Principal  terms effective_date   due_date  age  education  \\\n",
       "0            0       1000     30     2016-09-08 2016-10-07   45          0   \n",
       "1            0       1000     30     2016-09-08 2016-10-07   33          2   \n",
       "2            0       1000     15     2016-09-08 2016-09-22   27          1   \n",
       "3            0       1000     30     2016-09-09 2016-10-08   28          1   \n",
       "4            0       1000     30     2016-09-09 2016-10-08   29          1   \n",
       "\n",
       "   Gender day_of_name  day_of_name_number  weekend  \n",
       "0       0    Thursday                   3        0  \n",
       "1       1    Thursday                   3        0  \n",
       "2       0    Thursday                   3        0  \n",
       "3       1      Friday                   4        1  \n",
       "4       0      Friday                   4        1  "
      ]
     },
     "execution_count": 41,
     "metadata": {},
     "output_type": "execute_result"
    }
   ],
   "source": [
    "df.head()"
   ]
  },
  {
   "cell_type": "markdown",
   "id": "86b2a359",
   "metadata": {},
   "source": [
    "## 3.2 Train and test dataset"
   ]
  },
  {
   "cell_type": "code",
   "execution_count": 42,
   "id": "ba14bcbd",
   "metadata": {},
   "outputs": [
    {
     "data": {
      "text/plain": [
       "0    0\n",
       "1    0\n",
       "2    0\n",
       "3    0\n",
       "4    0\n",
       "Name: loan_status, dtype: int64"
      ]
     },
     "execution_count": 42,
     "metadata": {},
     "output_type": "execute_result"
    }
   ],
   "source": [
    "y = df[\"loan_status\"]\n",
    "y.head()"
   ]
  },
  {
   "cell_type": "code",
   "execution_count": 43,
   "id": "edda3d31",
   "metadata": {},
   "outputs": [
    {
     "data": {
      "text/html": [
       "<div>\n",
       "<style scoped>\n",
       "    .dataframe tbody tr th:only-of-type {\n",
       "        vertical-align: middle;\n",
       "    }\n",
       "\n",
       "    .dataframe tbody tr th {\n",
       "        vertical-align: top;\n",
       "    }\n",
       "\n",
       "    .dataframe thead th {\n",
       "        text-align: right;\n",
       "    }\n",
       "</style>\n",
       "<table border=\"1\" class=\"dataframe\">\n",
       "  <thead>\n",
       "    <tr style=\"text-align: right;\">\n",
       "      <th></th>\n",
       "      <th>Principal</th>\n",
       "      <th>terms</th>\n",
       "      <th>age</th>\n",
       "      <th>education</th>\n",
       "      <th>Gender</th>\n",
       "      <th>weekend</th>\n",
       "    </tr>\n",
       "  </thead>\n",
       "  <tbody>\n",
       "    <tr>\n",
       "      <th>0</th>\n",
       "      <td>1000</td>\n",
       "      <td>30</td>\n",
       "      <td>45</td>\n",
       "      <td>0</td>\n",
       "      <td>0</td>\n",
       "      <td>0</td>\n",
       "    </tr>\n",
       "    <tr>\n",
       "      <th>1</th>\n",
       "      <td>1000</td>\n",
       "      <td>30</td>\n",
       "      <td>33</td>\n",
       "      <td>2</td>\n",
       "      <td>1</td>\n",
       "      <td>0</td>\n",
       "    </tr>\n",
       "    <tr>\n",
       "      <th>2</th>\n",
       "      <td>1000</td>\n",
       "      <td>15</td>\n",
       "      <td>27</td>\n",
       "      <td>1</td>\n",
       "      <td>0</td>\n",
       "      <td>0</td>\n",
       "    </tr>\n",
       "    <tr>\n",
       "      <th>3</th>\n",
       "      <td>1000</td>\n",
       "      <td>30</td>\n",
       "      <td>28</td>\n",
       "      <td>1</td>\n",
       "      <td>1</td>\n",
       "      <td>1</td>\n",
       "    </tr>\n",
       "    <tr>\n",
       "      <th>4</th>\n",
       "      <td>1000</td>\n",
       "      <td>30</td>\n",
       "      <td>29</td>\n",
       "      <td>1</td>\n",
       "      <td>0</td>\n",
       "      <td>1</td>\n",
       "    </tr>\n",
       "  </tbody>\n",
       "</table>\n",
       "</div>"
      ],
      "text/plain": [
       "   Principal  terms  age  education  Gender  weekend\n",
       "0       1000     30   45          0       0        0\n",
       "1       1000     30   33          2       1        0\n",
       "2       1000     15   27          1       0        0\n",
       "3       1000     30   28          1       1        1\n",
       "4       1000     30   29          1       0        1"
      ]
     },
     "execution_count": 43,
     "metadata": {},
     "output_type": "execute_result"
    }
   ],
   "source": [
    "x = df[[\"Principal\", \"terms\", \"age\", \"education\", \"Gender\", \"weekend\"]]\n",
    "x.head()"
   ]
  },
  {
   "cell_type": "code",
   "execution_count": 44,
   "id": "56ca3400",
   "metadata": {},
   "outputs": [],
   "source": [
    "x = x.to_numpy()"
   ]
  },
  {
   "cell_type": "code",
   "execution_count": 45,
   "id": "24d5675d",
   "metadata": {},
   "outputs": [],
   "source": [
    "from sklearn.preprocessing import StandardScaler\n",
    "\n",
    "sta = preprocessing.StandardScaler()\n",
    "sta.fit(x)\n",
    "x = sta.transform(x)"
   ]
  },
  {
   "cell_type": "code",
   "execution_count": 46,
   "id": "2635f64e",
   "metadata": {},
   "outputs": [
    {
     "data": {
      "text/plain": [
       "array([[ 0.51578458,  0.92071769,  2.33152555, -0.99512471, -0.42056004,\n",
       "        -1.20577805],\n",
       "       [ 0.51578458,  0.92071769,  0.34170148,  1.83872837,  2.37778177,\n",
       "        -1.20577805],\n",
       "       [ 0.51578458, -0.95911111, -0.65321055,  0.42180183, -0.42056004,\n",
       "        -1.20577805],\n",
       "       ...,\n",
       "       [-1.31458942, -0.95911111,  1.33661351,  0.42180183, -0.42056004,\n",
       "        -1.20577805],\n",
       "       [ 0.51578458,  0.92071769, -0.48739188,  0.42180183, -0.42056004,\n",
       "        -1.20577805],\n",
       "       [ 0.51578458,  0.92071769, -0.81902922,  0.42180183, -0.42056004,\n",
       "        -1.20577805]])"
      ]
     },
     "execution_count": 46,
     "metadata": {},
     "output_type": "execute_result"
    }
   ],
   "source": [
    "x"
   ]
  },
  {
   "cell_type": "code",
   "execution_count": 47,
   "id": "5f6fffd3",
   "metadata": {},
   "outputs": [],
   "source": [
    "from sklearn.model_selection import train_test_split\n",
    "\n",
    "x_train, x_test, y_train, y_test = train_test_split(x, y, test_size = 0.25)"
   ]
  },
  {
   "cell_type": "code",
   "execution_count": 48,
   "id": "bc418819",
   "metadata": {},
   "outputs": [
    {
     "name": "stdout",
     "output_type": "stream",
     "text": [
      "The shape of x_train and x_test: (259, 6) (87, 6)\n",
      "The shape of y_train and y_test: (259,) (87,)\n"
     ]
    }
   ],
   "source": [
    "print(\"The shape of x_train and x_test:\", x_train.shape, x_test.shape)\n",
    "print(\"The shape of y_train and y_test:\", y_train.shape, y_test.shape)"
   ]
  },
  {
   "cell_type": "markdown",
   "id": "391ba8fa",
   "metadata": {},
   "source": [
    "# 3. MODELLING"
   ]
  },
  {
   "cell_type": "markdown",
   "id": "62fed56f",
   "metadata": {},
   "source": [
    "## 3.1 K- Nearest Neighbor"
   ]
  },
  {
   "cell_type": "markdown",
   "id": "8e37f0c5",
   "metadata": {},
   "source": [
    "### Finding the best K for dataset"
   ]
  },
  {
   "cell_type": "code",
   "execution_count": 60,
   "id": "814787c2",
   "metadata": {},
   "outputs": [],
   "source": [
    "from sklearn.neighbors import KNeighborsClassifier\n",
    "from sklearn import metrics\n",
    "from sklearn.metrics import accuracy_score"
   ]
  },
  {
   "cell_type": "code",
   "execution_count": 74,
   "id": "4fcf3121",
   "metadata": {},
   "outputs": [
    {
     "data": {
      "text/plain": [
       "array([0.68965517, 0.79310345, 0.77011494, 0.85057471, 0.82758621,\n",
       "       0.82758621, 0.82758621, 0.83908046, 0.79310345])"
      ]
     },
     "execution_count": 74,
     "metadata": {},
     "output_type": "execute_result"
    }
   ],
   "source": [
    "k_nearest = 10\n",
    "\n",
    "accuracy_knearest = np.zeros(k_nearest - 1)\n",
    "\n",
    "for n in range(1, k_nearest):\n",
    "    #train and predict model\n",
    "    KNN = KNeighborsClassifier(n_neighbors = n)\n",
    "    kneighbor_model = KNN.fit(x_train, y_train)\n",
    "    y_pred_KNN_demo = kneighbor_model.predict(x_test)\n",
    "    accuracy_knearest[n - 1] = metrics.accuracy_score(y_test, y_pred_KNN_demo)\n",
    "    \n",
    "accuracy_knearest"
   ]
  },
  {
   "cell_type": "code",
   "execution_count": 75,
   "id": "53e6d308",
   "metadata": {},
   "outputs": [
    {
     "data": {
      "image/png": "[encoded data removed]",
      "text/plain": [
       "<Figure size 432x288 with 1 Axes>"
      ]
     },
     "metadata": {
      "needs_background": "light"
     },
     "output_type": "display_data"
    }
   ],
   "source": [
    "plt.plot(range(1, k_nearest), accuracy_knearest, \"g\")\n",
    "plt.xlabel(\"Number of Neighbors (K)\")\n",
    "plt.ylabel(\"Accuracy score\")\n",
    "plt.tight_layout()\n",
    "plt.show()"
   ]
  },
  {
   "cell_type": "markdown",
   "id": "7c097696",
   "metadata": {},
   "source": [
    "### Using K = 4 to predict loan_status "
   ]
  },
  {
   "cell_type": "code",
   "execution_count": 76,
   "id": "e2766277",
   "metadata": {},
   "outputs": [],
   "source": [
    "k = 4\n",
    "KNN_offical = KNeighborsClassifier(n_neighbors = 4)\n",
    "KNN_model_official = KNN_offical.fit(x_train, y_train)\n",
    "\n",
    "y_pred_KNN = KNN_model_official.predict(x_test)"
   ]
  },
  {
   "cell_type": "code",
   "execution_count": 83,
   "id": "5d36e2f9",
   "metadata": {},
   "outputs": [],
   "source": [
    "f1_score_KNN = f1_score(y_test,y_pred_KNN)\n",
    "jaccard_score_KNN = jaccard_score(y_test, y_pred_KNN)\n",
    "log_loss_KNN = log_loss(y_test, y_pred_KNN)"
   ]
  },
  {
   "cell_type": "code",
   "execution_count": 91,
   "id": "82af4b5a",
   "metadata": {},
   "outputs": [
    {
     "name": "stdout",
     "output_type": "stream",
     "text": [
      "F1_score value in KNN model: 0.4348\n",
      "Jaccard score value in KNN model: 0.2778\n",
      "Log loss value in KNN model: 5.161\n"
     ]
    }
   ],
   "source": [
    "print(\"F1_score value in KNN model:\", round(f1_score_KNN, 4))\n",
    "print(\"Jaccard score value in KNN model:\", round(jaccard_score_KNN, 4))\n",
    "print(\"Log loss value in KNN model:\", round(log_loss_KNN, 4))"
   ]
  },
  {
   "cell_type": "code",
   "execution_count": 84,
   "id": "bff18934",
   "metadata": {},
   "outputs": [
    {
     "data": {
      "image/png": "[encoded data removed]",
      "text/plain": [
       "<Figure size 432x288 with 2 Axes>"
      ]
     },
     "metadata": {
      "needs_background": "light"
     },
     "output_type": "display_data"
    }
   ],
   "source": [
    "confusion_matrix_KNN = plot_confusion_matrix(KNN_model_official,x_test, y_test)"
   ]
  },
  {
   "cell_type": "markdown",
   "id": "8fa9ef07",
   "metadata": {},
   "source": [
    "## 3.2 Decision Tree Classification"
   ]
  },
  {
   "cell_type": "code",
   "execution_count": 160,
   "id": "0058f8d9",
   "metadata": {},
   "outputs": [],
   "source": [
    "from sklearn.tree import DecisionTreeClassifier\n",
    "\n",
    "decision_tree = DecisionTreeClassifier(criterion = \"gini\", \n",
    "                                       max_depth = 6, random_state= 0)\n",
    "tree_model = decision_tree.fit(x_train, y_train)\n",
    "\n",
    "y_pred_tree = tree_model.predict(x_test)"
   ]
  },
  {
   "cell_type": "code",
   "execution_count": 161,
   "id": "0a6b7c7e",
   "metadata": {},
   "outputs": [
    {
     "data": {
      "text/plain": [
       "[Text(272.8, 403.81714285714287, 'X[5] <= -0.188\\ngini = 0.398\\nsamples = 259\\nvalue = [188, 71]'),\n",
       " Text(148.8, 341.69142857142856, 'X[2] <= 1.254\\ngini = 0.039\\nsamples = 101\\nvalue = [99, 2]'),\n",
       " Text(74.4, 279.5657142857143, 'X[2] <= -0.404\\ngini = 0.022\\nsamples = 89\\nvalue = [88, 1]'),\n",
       " Text(49.6, 217.44, 'X[2] <= -0.57\\ngini = 0.067\\nsamples = 29\\nvalue = [28, 1]'),\n",
       " Text(24.8, 155.3142857142857, 'gini = 0.0\\nsamples = 22\\nvalue = [22, 0]'),\n",
       " Text(74.4, 155.3142857142857, 'X[1] <= -0.019\\ngini = 0.245\\nsamples = 7\\nvalue = [6, 1]'),\n",
       " Text(49.6, 93.18857142857144, 'gini = 0.0\\nsamples = 3\\nvalue = [3, 0]'),\n",
       " Text(99.2, 93.18857142857144, 'X[3] <= -0.287\\ngini = 0.375\\nsamples = 4\\nvalue = [3, 1]'),\n",
       " Text(74.4, 31.062857142857126, 'gini = 0.0\\nsamples = 1\\nvalue = [1, 0]'),\n",
       " Text(124.0, 31.062857142857126, 'gini = 0.444\\nsamples = 3\\nvalue = [2, 1]'),\n",
       " Text(99.2, 217.44, 'gini = 0.0\\nsamples = 60\\nvalue = [60, 0]'),\n",
       " Text(223.20000000000002, 279.5657142857143, 'X[2] <= 1.42\\ngini = 0.153\\nsamples = 12\\nvalue = [11, 1]'),\n",
       " Text(198.4, 217.44, 'X[1] <= -0.019\\ngini = 0.375\\nsamples = 4\\nvalue = [3, 1]'),\n",
       " Text(173.6, 155.3142857142857, 'X[3] <= -0.287\\ngini = 0.5\\nsamples = 2\\nvalue = [1, 1]'),\n",
       " Text(148.8, 93.18857142857144, 'gini = 0.0\\nsamples = 1\\nvalue = [1, 0]'),\n",
       " Text(198.4, 93.18857142857144, 'gini = 0.0\\nsamples = 1\\nvalue = [0, 1]'),\n",
       " Text(223.20000000000002, 155.3142857142857, 'gini = 0.0\\nsamples = 2\\nvalue = [2, 0]'),\n",
       " Text(248.0, 217.44, 'gini = 0.0\\nsamples = 8\\nvalue = [8, 0]'),\n",
       " Text(396.8, 341.69142857142856, 'X[1] <= -1.46\\ngini = 0.492\\nsamples = 158\\nvalue = [89, 69]'),\n",
       " Text(372.0, 279.5657142857143, 'gini = 0.0\\nsamples = 6\\nvalue = [6, 0]'),\n",
       " Text(421.6, 279.5657142857143, 'X[4] <= 0.979\\ngini = 0.496\\nsamples = 152\\nvalue = [83, 69]'),\n",
       " Text(297.6, 217.44, 'X[2] <= -1.731\\ngini = 0.499\\nsamples = 131\\nvalue = [68, 63]'),\n",
       " Text(272.8, 155.3142857142857, 'gini = 0.0\\nsamples = 2\\nvalue = [2, 0]'),\n",
       " Text(322.40000000000003, 155.3142857142857, 'X[2] <= 0.259\\ngini = 0.5\\nsamples = 129\\nvalue = [66, 63]'),\n",
       " Text(272.8, 93.18857142857144, 'X[2] <= 0.093\\ngini = 0.498\\nsamples = 77\\nvalue = [36, 41]'),\n",
       " Text(248.0, 31.062857142857126, 'gini = 0.5\\nsamples = 71\\nvalue = [35, 36]'),\n",
       " Text(297.6, 31.062857142857126, 'gini = 0.278\\nsamples = 6\\nvalue = [1, 5]'),\n",
       " Text(372.0, 93.18857142857144, 'X[3] <= -0.287\\ngini = 0.488\\nsamples = 52\\nvalue = [30, 22]'),\n",
       " Text(347.2, 31.062857142857126, 'gini = 0.496\\nsamples = 22\\nvalue = [10, 12]'),\n",
       " Text(396.8, 31.062857142857126, 'gini = 0.444\\nsamples = 30\\nvalue = [20, 10]'),\n",
       " Text(545.6, 217.44, 'X[2] <= 0.01\\ngini = 0.408\\nsamples = 21\\nvalue = [15, 6]'),\n",
       " Text(496.0, 155.3142857142857, 'X[2] <= -0.404\\ngini = 0.5\\nsamples = 10\\nvalue = [5, 5]'),\n",
       " Text(471.2, 93.18857142857144, 'X[1] <= -0.019\\ngini = 0.469\\nsamples = 8\\nvalue = [5, 3]'),\n",
       " Text(446.40000000000003, 31.062857142857126, 'gini = 0.0\\nsamples = 2\\nvalue = [0, 2]'),\n",
       " Text(496.0, 31.062857142857126, 'gini = 0.278\\nsamples = 6\\nvalue = [5, 1]'),\n",
       " Text(520.8000000000001, 93.18857142857144, 'gini = 0.0\\nsamples = 2\\nvalue = [0, 2]'),\n",
       " Text(595.2, 155.3142857142857, 'X[2] <= 0.922\\ngini = 0.165\\nsamples = 11\\nvalue = [10, 1]'),\n",
       " Text(570.4, 93.18857142857144, 'gini = 0.0\\nsamples = 7\\nvalue = [7, 0]'),\n",
       " Text(620.0, 93.18857142857144, 'X[3] <= -0.287\\ngini = 0.375\\nsamples = 4\\nvalue = [3, 1]'),\n",
       " Text(595.2, 31.062857142857126, 'gini = 0.0\\nsamples = 3\\nvalue = [3, 0]'),\n",
       " Text(644.8000000000001, 31.062857142857126, 'gini = 0.0\\nsamples = 1\\nvalue = [0, 1]')]"
      ]
     },
     "execution_count": 161,
     "metadata": {},
     "output_type": "execute_result"
    },
    {
     "data": {
      "image/png": "[encoded data removed]",
      "text/plain": [
       "<Figure size 864x576 with 1 Axes>"
      ]
     },
     "metadata": {
      "needs_background": "light"
     },
     "output_type": "display_data"
    }
   ],
   "source": [
    "plt.figure(figsize=(12,8))\n",
    "\n",
    "from sklearn import tree\n",
    "\n",
    "tree.plot_tree(tree_model.fit(x_train, y_train))"
   ]
  },
  {
   "cell_type": "code",
   "execution_count": 162,
   "id": "45e2678b",
   "metadata": {},
   "outputs": [],
   "source": [
    "f1_score_tree = f1_score(y_test, y_pred_tree)\n",
    "jaccard_score_tree = jaccard_score(y_test, y_pred_tree)\n",
    "log_loss_tree = log_loss(y_test, y_pred_tree)"
   ]
  },
  {
   "cell_type": "code",
   "execution_count": 163,
   "id": "56dd4b97",
   "metadata": {},
   "outputs": [
    {
     "name": "stdout",
     "output_type": "stream",
     "text": [
      "F1_score value in Decision tree model: 0.4314\n",
      "Jaccard score value in Decision tree model: 0.275\n",
      "Log loss value in Decision tree model: 11.5132\n"
     ]
    }
   ],
   "source": [
    "print(\"F1_score value in Decision tree model:\", round(f1_score_tree, 4))\n",
    "print(\"Jaccard score value in Decision tree model:\", round(jaccard_score_tree, 4))\n",
    "print(\"Log loss value in Decision tree model:\", round(log_loss_tree, 4))"
   ]
  },
  {
   "cell_type": "code",
   "execution_count": 164,
   "id": "1430dc0d",
   "metadata": {},
   "outputs": [
    {
     "data": {
      "image/png": "[encoded data removed]",
      "text/plain": [
       "<Figure size 432x288 with 2 Axes>"
      ]
     },
     "metadata": {
      "needs_background": "light"
     },
     "output_type": "display_data"
    }
   ],
   "source": [
    "confusion_matrix_tree = plot_confusion_matrix(tree_model, x_test, y_test)"
   ]
  },
  {
   "cell_type": "markdown",
   "id": "4cc73aef",
   "metadata": {},
   "source": [
    "## 3.3 Support Vector Machine"
   ]
  },
  {
   "cell_type": "code",
   "execution_count": 207,
   "id": "c7d0b864",
   "metadata": {},
   "outputs": [],
   "source": [
    "from sklearn import svm\n",
    "\n",
    "svm = svm.SVC(C = 3, kernel = \"rbf\")\n",
    "SVM_model = svm.fit(x_train, y_train)\n",
    "\n",
    "y_pred_svm = SVM_model.predict(x_test)"
   ]
  },
  {
   "cell_type": "code",
   "execution_count": 208,
   "id": "51d3a54f",
   "metadata": {},
   "outputs": [],
   "source": [
    "f1_score_svm = f1_score(y_test, y_pred_svm)\n",
    "jaccard_score_svm = jaccard_score(y_test, y_pred_svm)\n",
    "log_loss_svm = log_loss(y_test, y_pred_svm)"
   ]
  },
  {
   "cell_type": "code",
   "execution_count": 209,
   "id": "4e578886",
   "metadata": {},
   "outputs": [
    {
     "name": "stdout",
     "output_type": "stream",
     "text": [
      "F1_score value in Support Vector Machine model: 0.3429\n",
      "Jaccard score value in SVM model: 0.2069\n",
      "Log loss value in SVM model: 9.1311\n"
     ]
    }
   ],
   "source": [
    "print(\"F1_score value in Support Vector Machine model:\", round(f1_score_svm, 4))\n",
    "print(\"Jaccard score value in SVM model:\", round(jaccard_score_svm, 4))\n",
    "print(\"Log loss value in SVM model:\", round(log_loss_svm, 4))"
   ]
  },
  {
   "cell_type": "code",
   "execution_count": 210,
   "id": "7bd344e2",
   "metadata": {},
   "outputs": [
    {
     "data": {
      "image/png": "[encoded data removed]",
      "text/plain": [
       "<Figure size 432x288 with 2 Axes>"
      ]
     },
     "metadata": {
      "needs_background": "light"
     },
     "output_type": "display_data"
    }
   ],
   "source": [
    "confusion_matrix_svm = plot_confusion_matrix(SVM_model, x_test, y_test)"
   ]
  },
  {
   "cell_type": "markdown",
   "id": "255bdfa6",
   "metadata": {},
   "source": [
    "## 3.4 Logistic Regression"
   ]
  },
  {
   "cell_type": "code",
   "execution_count": 236,
   "id": "966df17d",
   "metadata": {},
   "outputs": [],
   "source": [
    "from sklearn.linear_model import LogisticRegression\n",
    "log_reg = LogisticRegression(C = 3, solver = \"liblinear\")\n",
    "\n",
    "log_reg_model = log_reg.fit(x_train, y_train)\n",
    "\n",
    "y_pred_logistic = log_reg_model.predict(x_test)"
   ]
  },
  {
   "cell_type": "code",
   "execution_count": 237,
   "id": "5ef0061d",
   "metadata": {},
   "outputs": [],
   "source": [
    "f1_score_logistic = f1_score(y_test, y_pred_logistic)\n",
    "jaccard_score_logistic = jaccard_score(y_test, y_pred_logistic)\n",
    "log_loss_logistic = log_loss(y_test, y_pred_logistic)"
   ]
  },
  {
   "cell_type": "code",
   "execution_count": 238,
   "id": "6d1f0179",
   "metadata": {},
   "outputs": [
    {
     "name": "stdout",
     "output_type": "stream",
     "text": [
      "F1_score value in Logistic regression model: 0.24\n",
      "Jaccard score value in Logistic regression model: 0.1364\n",
      "Log loss value in logistic regression model: 7.543\n"
     ]
    }
   ],
   "source": [
    "print(\"F1_score value in Logistic regression model:\", round(f1_score_logistic, 4))\n",
    "print(\"Jaccard score value in Logistic regression model:\", round(jaccard_score_logistic, 4))\n",
    "print(\"Log loss value in logistic regression model:\", round(log_loss_logistic, 4))"
   ]
  },
  {
   "cell_type": "code",
   "execution_count": 239,
   "id": "19bc9104",
   "metadata": {},
   "outputs": [
    {
     "data": {
      "image/png": "[encoded data removed]",
      "text/plain": [
       "<Figure size 432x288 with 2 Axes>"
      ]
     },
     "metadata": {
      "needs_background": "light"
     },
     "output_type": "display_data"
    }
   ],
   "source": [
    "confusion_matrix_logistic = plot_confusion_matrix(log_reg_model, x_test, y_test)"
   ]
  },
  {
   "cell_type": "markdown",
   "id": "42dc1c11",
   "metadata": {},
   "source": [
    "# 4. EVALUATION AND COMPARISE MODELING"
   ]
  },
  {
   "cell_type": "code",
   "execution_count": 240,
   "id": "dcb04770",
   "metadata": {},
   "outputs": [],
   "source": [
    "data_model= [[\"KNN\", f1_score_KNN, jaccard_score_KNN, log_loss_KNN],\n",
    "             [\"Decision Tree\", f1_score_tree, jaccard_score_tree, log_loss_tree],\n",
    "             [\"SVM\", f1_score_svm, jaccard_score_svm, log_loss_svm],\n",
    "             [\"Logistic Regression\", f1_score_logistic, jaccard_score_logistic, log_loss_logistic]]\n",
    "df_data_model = pd.DataFrame(data_model, columns = [\"Model\", \"F1 Score\", \"Jaccard Score\", \"Log Loss Score\"])"
   ]
  },
  {
   "cell_type": "code",
   "execution_count": 241,
   "id": "0a9be8a1",
   "metadata": {},
   "outputs": [
    {
     "data": {
      "text/html": [
       "<div>\n",
       "<style scoped>\n",
       "    .dataframe tbody tr th:only-of-type {\n",
       "        vertical-align: middle;\n",
       "    }\n",
       "\n",
       "    .dataframe tbody tr th {\n",
       "        vertical-align: top;\n",
       "    }\n",
       "\n",
       "    .dataframe thead th {\n",
       "        text-align: right;\n",
       "    }\n",
       "</style>\n",
       "<table border=\"1\" class=\"dataframe\">\n",
       "  <thead>\n",
       "    <tr style=\"text-align: right;\">\n",
       "      <th></th>\n",
       "      <th>Model</th>\n",
       "      <th>F1 Score</th>\n",
       "      <th>Jaccard Score</th>\n",
       "      <th>Log Loss Score</th>\n",
       "    </tr>\n",
       "  </thead>\n",
       "  <tbody>\n",
       "    <tr>\n",
       "      <th>0</th>\n",
       "      <td>KNN</td>\n",
       "      <td>0.434783</td>\n",
       "      <td>0.277778</td>\n",
       "      <td>5.160994</td>\n",
       "    </tr>\n",
       "    <tr>\n",
       "      <th>1</th>\n",
       "      <td>Decision Tree</td>\n",
       "      <td>0.431373</td>\n",
       "      <td>0.275000</td>\n",
       "      <td>11.513155</td>\n",
       "    </tr>\n",
       "    <tr>\n",
       "      <th>2</th>\n",
       "      <td>SVM</td>\n",
       "      <td>0.342857</td>\n",
       "      <td>0.206897</td>\n",
       "      <td>9.131070</td>\n",
       "    </tr>\n",
       "    <tr>\n",
       "      <th>3</th>\n",
       "      <td>Logistic Regression</td>\n",
       "      <td>0.240000</td>\n",
       "      <td>0.136364</td>\n",
       "      <td>7.543016</td>\n",
       "    </tr>\n",
       "  </tbody>\n",
       "</table>\n",
       "</div>"
      ],
      "text/plain": [
       "                 Model  F1 Score  Jaccard Score  Log Loss Score\n",
       "0                  KNN  0.434783       0.277778        5.160994\n",
       "1        Decision Tree  0.431373       0.275000       11.513155\n",
       "2                  SVM  0.342857       0.206897        9.131070\n",
       "3  Logistic Regression  0.240000       0.136364        7.543016"
      ]
     },
     "execution_count": 241,
     "metadata": {},
     "output_type": "execute_result"
    }
   ],
   "source": [
    "df_data_model"
   ]
  },
  {
   "cell_type": "code",
   "execution_count": 242,
   "id": "fd7c3327",
   "metadata": {},
   "outputs": [
    {
     "data": {
      "text/plain": [
       "<AxesSubplot:xlabel='Model', ylabel='F1 Score'>"
      ]
     },
     "execution_count": 242,
     "metadata": {},
     "output_type": "execute_result"
    },
    {
     "data": {
      "image/png": "[encoded data removed]",
      "text/plain": [
       "<Figure size 432x288 with 1 Axes>"
      ]
     },
     "metadata": {
      "needs_background": "light"
     },
     "output_type": "display_data"
    }
   ],
   "source": [
    "sns.barplot(x = \"Model\", y = \"F1 Score\", data = df_date_model)"
   ]
  },
  {
   "cell_type": "code",
   "execution_count": 243,
   "id": "40530c86",
   "metadata": {},
   "outputs": [
    {
     "data": {
      "text/plain": [
       "<AxesSubplot:xlabel='Model', ylabel='Jaccard Score'>"
      ]
     },
     "execution_count": 243,
     "metadata": {},
     "output_type": "execute_result"
    },
    {
     "data": {
      "image/png": "[encoded data removed]",
      "text/plain": [
       "<Figure size 432x288 with 1 Axes>"
      ]
     },
     "metadata": {
      "needs_background": "light"
     },
     "output_type": "display_data"
    }
   ],
   "source": [
    "sns.barplot(x = \"Model\", y = \"Jaccard Score\", data = df_date_model)"
   ]
  },
  {
   "cell_type": "code",
   "execution_count": 245,
   "id": "9f308a7f",
   "metadata": {},
   "outputs": [
    {
     "data": {
      "text/plain": [
       "<AxesSubplot:xlabel='Model', ylabel='Log Loss Score'>"
      ]
     },
     "execution_count": 245,
     "metadata": {},
     "output_type": "execute_result"
    },
    {
     "data": {
      "image/png": "[encoded data removed]",
      "text/plain": [
       "<Figure size 432x288 with 1 Axes>"
      ]
     },
     "metadata": {
      "needs_background": "light"
     },
     "output_type": "display_data"
    }
   ],
   "source": [
    "sns.barplot(x = \"Model\", y = \"Log Loss Score\", data = df_date_model)"
   ]
  },
  {
   "cell_type": "markdown",
   "id": "91f06892",
   "metadata": {},
   "source": [
    "### After evaluate model using F1 score, Jaccard score, Log-loss score, the best model to classificate loan status is KNN model."
   ]
  },
  {
   "cell_type": "markdown",
   "id": "a305255d",
   "metadata": {},
   "source": [
    "# THE END"
   ]
  }
 ],
 "metadata": {
  "kernelspec": {
   "display_name": "Python 3",
   "language": "python",
   "name": "python3"
  },
  "language_info": {
   "codemirror_mode": {
    "name": "ipython",
    "version": 3
   },
   "file_extension": ".py",
   "mimetype": "text/x-python",
   "name": "python",
   "nbconvert_exporter": "python",
   "pygments_lexer": "ipython3",
   "version": "3.8.10"
  }
 },
 "nbformat": 4,
 "nbformat_minor": 5
}
