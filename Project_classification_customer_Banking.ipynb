{
 "cells": [
  {
   "cell_type": "markdown",
   "id": "c80099ca",
   "metadata": {},
   "source": [
    "<center>\n",
    "    <img src=\"https://cf-courses-data.s3.us.cloud-object-storage.appdomain.cloud/IBMDeveloperSkillsNetwork-ML0101EN-SkillsNetwork/labs/FinalModule_Coursera/images/IDSNlogo.png\" width=\"300\" alt=\"cognitiveclass.ai logo\"  />\n",
    "</center>\n"
   ]
  },
  {
   "cell_type": "markdown",
   "id": "267db94e",
   "metadata": {},
   "source": [
    "<h1 align=\"center\"><font size=\"5\">DEVELOP MODEL TO CLASSIFICATION TYPE CUSUMER IN BANKING</font></h1>"
   ]
  },
  {
   "cell_type": "markdown",
   "id": "9ac29b4c",
   "metadata": {},
   "source": [
    "# 1. DATASET IN PROJECT"
   ]
  },
  {
   "cell_type": "markdown",
   "id": "018f3368",
   "metadata": {},
   "source": [
    "This dataset is about past loans. The **Loan_train.csv** data set includes details of 346 customers whose loan are already paid off or defaulted. It includes following fields:\n",
    "\n",
    "| Field          | Description                                                                           |\n",
    "| -------------- | ------------------------------------------------------------------------------------- |\n",
    "| Loan_status    | Whether a loan is paid off on in collection                                           |\n",
    "| Principal      | Basic principal loan amount at the                                                    |\n",
    "| Terms          | Origination terms which can be weekly (7 days), biweekly, and monthly payoff schedule |\n",
    "| Effective_date | When the loan got originated and took effects                                         |\n",
    "| Due_date       | Since it’s one-time payoff schedule, each loan has one single due date                |\n",
    "| Age            | Age of applicant                                                                      |\n",
    "| Education      | Education of applicant                                                                |\n",
    "| Gender         | The gender of applicant      "
   ]
  },
  {
   "cell_type": "markdown",
   "id": "a617bfa1",
   "metadata": {},
   "source": [
    "# 2. DATA ANALYST"
   ]
  },
  {
   "cell_type": "markdown",
   "id": "552a04cb",
   "metadata": {},
   "source": [
    "# 2.1 Import data"
   ]
  },
  {
   "cell_type": "markdown",
   "id": "bf9c97ae",
   "metadata": {},
   "source": [
    "### Load all library needed:"
   ]
  },
  {
   "cell_type": "code",
   "execution_count": 1,
   "id": "c81ca826",
   "metadata": {},
   "outputs": [
    {
     "name": "stdout",
     "output_type": "stream",
     "text": [
      "All library was imported\n"
     ]
    }
   ],
   "source": [
    "import pandas as pd\n",
    "import numpy as np\n",
    "\n",
    "import matplotlib.pyplot as plt\n",
    "%matplotlib inline\n",
    "import seaborn as sns\n",
    "\n",
    "from sklearn.model_selection import train_test_split\n",
    "from sklearn import preprocessing\n",
    "\n",
    "from sklearn.metrics import f1_score\n",
    "from sklearn.metrics import jaccard_score\n",
    "from sklearn.metrics import log_loss\n",
    "from sklearn.metrics import classification_report\n",
    "from sklearn.metrics import plot_confusion_matrix\n",
    "from sklearn.metrics import accuracy_score\n",
    "\n",
    "print(\"All library was imported\")"
   ]
  },
  {
   "cell_type": "markdown",
   "id": "75fcc873",
   "metadata": {},
   "source": [
    "### Import dataset"
   ]
  },
  {
   "cell_type": "code",
   "execution_count": 2,
   "id": "5eba01dc",
   "metadata": {
    "tags": []
   },
   "outputs": [
    {
     "data": {
      "text/html": [
       "<div>\n",
       "<style scoped>\n",
       "    .dataframe tbody tr th:only-of-type {\n",
       "        vertical-align: middle;\n",
       "    }\n",
       "\n",
       "    .dataframe tbody tr th {\n",
       "        vertical-align: top;\n",
       "    }\n",
       "\n",
       "    .dataframe thead th {\n",
       "        text-align: right;\n",
       "    }\n",
       "</style>\n",
       "<table border=\"1\" class=\"dataframe\">\n",
       "  <thead>\n",
       "    <tr style=\"text-align: right;\">\n",
       "      <th></th>\n",
       "      <th>Unnamed: 0</th>\n",
       "      <th>Unnamed: 0.1</th>\n",
       "      <th>loan_status</th>\n",
       "      <th>Principal</th>\n",
       "      <th>terms</th>\n",
       "      <th>effective_date</th>\n",
       "      <th>due_date</th>\n",
       "      <th>age</th>\n",
       "      <th>education</th>\n",
       "      <th>Gender</th>\n",
       "    </tr>\n",
       "  </thead>\n",
       "  <tbody>\n",
       "    <tr>\n",
       "      <th>0</th>\n",
       "      <td>0</td>\n",
       "      <td>0</td>\n",
       "      <td>PAIDOFF</td>\n",
       "      <td>1000</td>\n",
       "      <td>30</td>\n",
       "      <td>9/8/2016</td>\n",
       "      <td>10/7/2016</td>\n",
       "      <td>45</td>\n",
       "      <td>High School or Below</td>\n",
       "      <td>male</td>\n",
       "    </tr>\n",
       "    <tr>\n",
       "      <th>1</th>\n",
       "      <td>2</td>\n",
       "      <td>2</td>\n",
       "      <td>PAIDOFF</td>\n",
       "      <td>1000</td>\n",
       "      <td>30</td>\n",
       "      <td>9/8/2016</td>\n",
       "      <td>10/7/2016</td>\n",
       "      <td>33</td>\n",
       "      <td>Bechalor</td>\n",
       "      <td>female</td>\n",
       "    </tr>\n",
       "    <tr>\n",
       "      <th>2</th>\n",
       "      <td>3</td>\n",
       "      <td>3</td>\n",
       "      <td>PAIDOFF</td>\n",
       "      <td>1000</td>\n",
       "      <td>15</td>\n",
       "      <td>9/8/2016</td>\n",
       "      <td>9/22/2016</td>\n",
       "      <td>27</td>\n",
       "      <td>college</td>\n",
       "      <td>male</td>\n",
       "    </tr>\n",
       "    <tr>\n",
       "      <th>3</th>\n",
       "      <td>4</td>\n",
       "      <td>4</td>\n",
       "      <td>PAIDOFF</td>\n",
       "      <td>1000</td>\n",
       "      <td>30</td>\n",
       "      <td>9/9/2016</td>\n",
       "      <td>10/8/2016</td>\n",
       "      <td>28</td>\n",
       "      <td>college</td>\n",
       "      <td>female</td>\n",
       "    </tr>\n",
       "    <tr>\n",
       "      <th>4</th>\n",
       "      <td>6</td>\n",
       "      <td>6</td>\n",
       "      <td>PAIDOFF</td>\n",
       "      <td>1000</td>\n",
       "      <td>30</td>\n",
       "      <td>9/9/2016</td>\n",
       "      <td>10/8/2016</td>\n",
       "      <td>29</td>\n",
       "      <td>college</td>\n",
       "      <td>male</td>\n",
       "    </tr>\n",
       "  </tbody>\n",
       "</table>\n",
       "</div>"
      ],
      "text/plain": [
       "   Unnamed: 0  Unnamed: 0.1 loan_status  Principal  terms effective_date  \\\n",
       "0           0             0     PAIDOFF       1000     30       9/8/2016   \n",
       "1           2             2     PAIDOFF       1000     30       9/8/2016   \n",
       "2           3             3     PAIDOFF       1000     15       9/8/2016   \n",
       "3           4             4     PAIDOFF       1000     30       9/9/2016   \n",
       "4           6             6     PAIDOFF       1000     30       9/9/2016   \n",
       "\n",
       "    due_date  age             education  Gender  \n",
       "0  10/7/2016   45  High School or Below    male  \n",
       "1  10/7/2016   33              Bechalor  female  \n",
       "2  9/22/2016   27               college    male  \n",
       "3  10/8/2016   28               college  female  \n",
       "4  10/8/2016   29               college    male  "
      ]
     },
     "execution_count": 2,
     "metadata": {},
     "output_type": "execute_result"
    }
   ],
   "source": [
    "df = pd.read_csv(\"https://cf-courses-data.s3.us.cloud-object-storage.appdomain.cloud/IBMDeveloperSkillsNetwork-ML0101EN-SkillsNetwork/labs/FinalModule_Coursera/data/loan_train.csv\")\n",
    "df.head()"
   ]
  },
  {
   "cell_type": "code",
   "execution_count": 3,
   "id": "35f83cf0",
   "metadata": {},
   "outputs": [],
   "source": [
    "df = df.drop([\"Unnamed: 0\", \"Unnamed: 0.1\"], axis = \"columns\")"
   ]
  },
  {
   "cell_type": "code",
   "execution_count": 4,
   "id": "d819ffc9",
   "metadata": {},
   "outputs": [
    {
     "name": "stdout",
     "output_type": "stream",
     "text": [
      "Columns and feature in dataset: (346, 8)\n"
     ]
    }
   ],
   "source": [
    "print(\"Columns and feature in dataset:\", df.shape)"
   ]
  },
  {
   "cell_type": "markdown",
   "id": "bb4e5224",
   "metadata": {},
   "source": [
    "### Cover dataframe to time_data object"
   ]
  },
  {
   "cell_type": "code",
   "execution_count": 5,
   "id": "066acefa",
   "metadata": {},
   "outputs": [],
   "source": [
    "df[\"effective_date\"]= pd.to_datetime(df[\"effective_date\"])\n",
    "df[\"due_date\"] = pd.to_datetime(df[\"due_date\"])"
   ]
  },
  {
   "cell_type": "code",
   "execution_count": 6,
   "id": "7fed341c",
   "metadata": {},
   "outputs": [
    {
     "data": {
      "text/html": [
       "<div>\n",
       "<style scoped>\n",
       "    .dataframe tbody tr th:only-of-type {\n",
       "        vertical-align: middle;\n",
       "    }\n",
       "\n",
       "    .dataframe tbody tr th {\n",
       "        vertical-align: top;\n",
       "    }\n",
       "\n",
       "    .dataframe thead th {\n",
       "        text-align: right;\n",
       "    }\n",
       "</style>\n",
       "<table border=\"1\" class=\"dataframe\">\n",
       "  <thead>\n",
       "    <tr style=\"text-align: right;\">\n",
       "      <th></th>\n",
       "      <th>loan_status</th>\n",
       "      <th>Principal</th>\n",
       "      <th>terms</th>\n",
       "      <th>effective_date</th>\n",
       "      <th>due_date</th>\n",
       "      <th>age</th>\n",
       "      <th>education</th>\n",
       "      <th>Gender</th>\n",
       "    </tr>\n",
       "  </thead>\n",
       "  <tbody>\n",
       "    <tr>\n",
       "      <th>0</th>\n",
       "      <td>PAIDOFF</td>\n",
       "      <td>1000</td>\n",
       "      <td>30</td>\n",
       "      <td>2016-09-08</td>\n",
       "      <td>2016-10-07</td>\n",
       "      <td>45</td>\n",
       "      <td>High School or Below</td>\n",
       "      <td>male</td>\n",
       "    </tr>\n",
       "    <tr>\n",
       "      <th>1</th>\n",
       "      <td>PAIDOFF</td>\n",
       "      <td>1000</td>\n",
       "      <td>30</td>\n",
       "      <td>2016-09-08</td>\n",
       "      <td>2016-10-07</td>\n",
       "      <td>33</td>\n",
       "      <td>Bechalor</td>\n",
       "      <td>female</td>\n",
       "    </tr>\n",
       "    <tr>\n",
       "      <th>2</th>\n",
       "      <td>PAIDOFF</td>\n",
       "      <td>1000</td>\n",
       "      <td>15</td>\n",
       "      <td>2016-09-08</td>\n",
       "      <td>2016-09-22</td>\n",
       "      <td>27</td>\n",
       "      <td>college</td>\n",
       "      <td>male</td>\n",
       "    </tr>\n",
       "    <tr>\n",
       "      <th>3</th>\n",
       "      <td>PAIDOFF</td>\n",
       "      <td>1000</td>\n",
       "      <td>30</td>\n",
       "      <td>2016-09-09</td>\n",
       "      <td>2016-10-08</td>\n",
       "      <td>28</td>\n",
       "      <td>college</td>\n",
       "      <td>female</td>\n",
       "    </tr>\n",
       "    <tr>\n",
       "      <th>4</th>\n",
       "      <td>PAIDOFF</td>\n",
       "      <td>1000</td>\n",
       "      <td>30</td>\n",
       "      <td>2016-09-09</td>\n",
       "      <td>2016-10-08</td>\n",
       "      <td>29</td>\n",
       "      <td>college</td>\n",
       "      <td>male</td>\n",
       "    </tr>\n",
       "  </tbody>\n",
       "</table>\n",
       "</div>"
      ],
      "text/plain": [
       "  loan_status  Principal  terms effective_date   due_date  age  \\\n",
       "0     PAIDOFF       1000     30     2016-09-08 2016-10-07   45   \n",
       "1     PAIDOFF       1000     30     2016-09-08 2016-10-07   33   \n",
       "2     PAIDOFF       1000     15     2016-09-08 2016-09-22   27   \n",
       "3     PAIDOFF       1000     30     2016-09-09 2016-10-08   28   \n",
       "4     PAIDOFF       1000     30     2016-09-09 2016-10-08   29   \n",
       "\n",
       "              education  Gender  \n",
       "0  High School or Below    male  \n",
       "1              Bechalor  female  \n",
       "2               college    male  \n",
       "3               college  female  \n",
       "4               college    male  "
      ]
     },
     "execution_count": 6,
     "metadata": {},
     "output_type": "execute_result"
    }
   ],
   "source": [
    "df.head()"
   ]
  },
  {
   "cell_type": "markdown",
   "id": "b6dcc0cd",
   "metadata": {},
   "source": [
    "## 2.2 Finding more infomation about data"
   ]
  },
  {
   "cell_type": "markdown",
   "id": "7e5ddd8f",
   "metadata": {},
   "source": [
    "### Cover data_time to week name"
   ]
  },
  {
   "cell_type": "code",
   "execution_count": 7,
   "id": "4ccba1b5",
   "metadata": {},
   "outputs": [],
   "source": [
    "df[\"day_of_name\"] = df[\"effective_date\"].dt.day_name()"
   ]
  },
  {
   "cell_type": "code",
   "execution_count": 8,
   "id": "c7afd7f1",
   "metadata": {},
   "outputs": [],
   "source": [
    "df[\"day_of_name_number\"] = df[\"effective_date\"].dt.dayofweek"
   ]
  },
  {
   "cell_type": "code",
   "execution_count": 9,
   "id": "7dbbabfc",
   "metadata": {},
   "outputs": [
    {
     "data": {
      "text/html": [
       "<div>\n",
       "<style scoped>\n",
       "    .dataframe tbody tr th:only-of-type {\n",
       "        vertical-align: middle;\n",
       "    }\n",
       "\n",
       "    .dataframe tbody tr th {\n",
       "        vertical-align: top;\n",
       "    }\n",
       "\n",
       "    .dataframe thead th {\n",
       "        text-align: right;\n",
       "    }\n",
       "</style>\n",
       "<table border=\"1\" class=\"dataframe\">\n",
       "  <thead>\n",
       "    <tr style=\"text-align: right;\">\n",
       "      <th></th>\n",
       "      <th>loan_status</th>\n",
       "      <th>Principal</th>\n",
       "      <th>terms</th>\n",
       "      <th>effective_date</th>\n",
       "      <th>due_date</th>\n",
       "      <th>age</th>\n",
       "      <th>education</th>\n",
       "      <th>Gender</th>\n",
       "      <th>day_of_name</th>\n",
       "      <th>day_of_name_number</th>\n",
       "    </tr>\n",
       "  </thead>\n",
       "  <tbody>\n",
       "    <tr>\n",
       "      <th>0</th>\n",
       "      <td>PAIDOFF</td>\n",
       "      <td>1000</td>\n",
       "      <td>30</td>\n",
       "      <td>2016-09-08</td>\n",
       "      <td>2016-10-07</td>\n",
       "      <td>45</td>\n",
       "      <td>High School or Below</td>\n",
       "      <td>male</td>\n",
       "      <td>Thursday</td>\n",
       "      <td>3</td>\n",
       "    </tr>\n",
       "    <tr>\n",
       "      <th>1</th>\n",
       "      <td>PAIDOFF</td>\n",
       "      <td>1000</td>\n",
       "      <td>30</td>\n",
       "      <td>2016-09-08</td>\n",
       "      <td>2016-10-07</td>\n",
       "      <td>33</td>\n",
       "      <td>Bechalor</td>\n",
       "      <td>female</td>\n",
       "      <td>Thursday</td>\n",
       "      <td>3</td>\n",
       "    </tr>\n",
       "    <tr>\n",
       "      <th>2</th>\n",
       "      <td>PAIDOFF</td>\n",
       "      <td>1000</td>\n",
       "      <td>15</td>\n",
       "      <td>2016-09-08</td>\n",
       "      <td>2016-09-22</td>\n",
       "      <td>27</td>\n",
       "      <td>college</td>\n",
       "      <td>male</td>\n",
       "      <td>Thursday</td>\n",
       "      <td>3</td>\n",
       "    </tr>\n",
       "    <tr>\n",
       "      <th>3</th>\n",
       "      <td>PAIDOFF</td>\n",
       "      <td>1000</td>\n",
       "      <td>30</td>\n",
       "      <td>2016-09-09</td>\n",
       "      <td>2016-10-08</td>\n",
       "      <td>28</td>\n",
       "      <td>college</td>\n",
       "      <td>female</td>\n",
       "      <td>Friday</td>\n",
       "      <td>4</td>\n",
       "    </tr>\n",
       "    <tr>\n",
       "      <th>4</th>\n",
       "      <td>PAIDOFF</td>\n",
       "      <td>1000</td>\n",
       "      <td>30</td>\n",
       "      <td>2016-09-09</td>\n",
       "      <td>2016-10-08</td>\n",
       "      <td>29</td>\n",
       "      <td>college</td>\n",
       "      <td>male</td>\n",
       "      <td>Friday</td>\n",
       "      <td>4</td>\n",
       "    </tr>\n",
       "  </tbody>\n",
       "</table>\n",
       "</div>"
      ],
      "text/plain": [
       "  loan_status  Principal  terms effective_date   due_date  age  \\\n",
       "0     PAIDOFF       1000     30     2016-09-08 2016-10-07   45   \n",
       "1     PAIDOFF       1000     30     2016-09-08 2016-10-07   33   \n",
       "2     PAIDOFF       1000     15     2016-09-08 2016-09-22   27   \n",
       "3     PAIDOFF       1000     30     2016-09-09 2016-10-08   28   \n",
       "4     PAIDOFF       1000     30     2016-09-09 2016-10-08   29   \n",
       "\n",
       "              education  Gender day_of_name  day_of_name_number  \n",
       "0  High School or Below    male    Thursday                   3  \n",
       "1              Bechalor  female    Thursday                   3  \n",
       "2               college    male    Thursday                   3  \n",
       "3               college  female      Friday                   4  \n",
       "4               college    male      Friday                   4  "
      ]
     },
     "execution_count": 9,
     "metadata": {},
     "output_type": "execute_result"
    }
   ],
   "source": [
    "df.head()"
   ]
  },
  {
   "cell_type": "markdown",
   "id": "e51db0dd",
   "metadata": {},
   "source": [
    "### Infomation about each of feature categories in dateset"
   ]
  },
  {
   "cell_type": "code",
   "execution_count": 10,
   "id": "cb5ba54b",
   "metadata": {},
   "outputs": [
    {
     "data": {
      "text/plain": [
       "PAIDOFF       260\n",
       "COLLECTION     86\n",
       "Name: loan_status, dtype: int64"
      ]
     },
     "execution_count": 10,
     "metadata": {},
     "output_type": "execute_result"
    }
   ],
   "source": [
    "df[\"loan_status\"].value_counts()"
   ]
  },
  {
   "cell_type": "code",
   "execution_count": 11,
   "id": "6c7e3e2a",
   "metadata": {},
   "outputs": [
    {
     "data": {
      "text/plain": [
       "1000    258\n",
       "800      81\n",
       "300       3\n",
       "900       2\n",
       "500       2\n",
       "Name: Principal, dtype: int64"
      ]
     },
     "execution_count": 11,
     "metadata": {},
     "output_type": "execute_result"
    }
   ],
   "source": [
    "df[\"Principal\"].value_counts()"
   ]
  },
  {
   "cell_type": "code",
   "execution_count": 12,
   "id": "c6a99273",
   "metadata": {},
   "outputs": [
    {
     "data": {
      "text/plain": [
       "30    184\n",
       "15    148\n",
       "7      14\n",
       "Name: terms, dtype: int64"
      ]
     },
     "execution_count": 12,
     "metadata": {},
     "output_type": "execute_result"
    }
   ],
   "source": [
    "df[\"terms\"].value_counts()"
   ]
  },
  {
   "cell_type": "code",
   "execution_count": 13,
   "id": "62350ecf",
   "metadata": {},
   "outputs": [
    {
     "data": {
      "text/plain": [
       "High School or Below    151\n",
       "college                 149\n",
       "Bechalor                 44\n",
       "Master or Above           2\n",
       "Name: education, dtype: int64"
      ]
     },
     "execution_count": 13,
     "metadata": {},
     "output_type": "execute_result"
    }
   ],
   "source": [
    "df[\"education\"].value_counts()"
   ]
  },
  {
   "cell_type": "code",
   "execution_count": 14,
   "id": "29054207",
   "metadata": {},
   "outputs": [
    {
     "data": {
      "text/plain": [
       "male      294\n",
       "female     52\n",
       "Name: Gender, dtype: int64"
      ]
     },
     "execution_count": 14,
     "metadata": {},
     "output_type": "execute_result"
    }
   ],
   "source": [
    "df[\"Gender\"].value_counts()"
   ]
  },
  {
   "cell_type": "markdown",
   "id": "82b47607",
   "metadata": {},
   "source": [
    "## 2.3 Relative about each of feature in dataset "
   ]
  },
  {
   "cell_type": "markdown",
   "id": "3868366b",
   "metadata": {},
   "source": [
    "### Feature loan_status and  day_of_name"
   ]
  },
  {
   "cell_type": "code",
   "execution_count": 15,
   "id": "e2d0e4f1",
   "metadata": {},
   "outputs": [
    {
     "data": {
      "text/html": [
       "<div>\n",
       "<style scoped>\n",
       "    .dataframe tbody tr th:only-of-type {\n",
       "        vertical-align: middle;\n",
       "    }\n",
       "\n",
       "    .dataframe tbody tr th {\n",
       "        vertical-align: top;\n",
       "    }\n",
       "\n",
       "    .dataframe thead th {\n",
       "        text-align: right;\n",
       "    }\n",
       "</style>\n",
       "<table border=\"1\" class=\"dataframe\">\n",
       "  <thead>\n",
       "    <tr style=\"text-align: right;\">\n",
       "      <th></th>\n",
       "      <th>day_of_name</th>\n",
       "      <th>loan_status</th>\n",
       "      <th>percentage</th>\n",
       "    </tr>\n",
       "  </thead>\n",
       "  <tbody>\n",
       "    <tr>\n",
       "      <th>0</th>\n",
       "      <td>Friday</td>\n",
       "      <td>COLLECTION</td>\n",
       "      <td>0.500000</td>\n",
       "    </tr>\n",
       "    <tr>\n",
       "      <th>1</th>\n",
       "      <td>Friday</td>\n",
       "      <td>PAIDOFF</td>\n",
       "      <td>0.500000</td>\n",
       "    </tr>\n",
       "    <tr>\n",
       "      <th>2</th>\n",
       "      <td>Monday</td>\n",
       "      <td>PAIDOFF</td>\n",
       "      <td>0.965517</td>\n",
       "    </tr>\n",
       "    <tr>\n",
       "      <th>3</th>\n",
       "      <td>Monday</td>\n",
       "      <td>COLLECTION</td>\n",
       "      <td>0.034483</td>\n",
       "    </tr>\n",
       "    <tr>\n",
       "      <th>4</th>\n",
       "      <td>Saturday</td>\n",
       "      <td>PAIDOFF</td>\n",
       "      <td>0.548387</td>\n",
       "    </tr>\n",
       "    <tr>\n",
       "      <th>5</th>\n",
       "      <td>Saturday</td>\n",
       "      <td>COLLECTION</td>\n",
       "      <td>0.451613</td>\n",
       "    </tr>\n",
       "    <tr>\n",
       "      <th>6</th>\n",
       "      <td>Sunday</td>\n",
       "      <td>PAIDOFF</td>\n",
       "      <td>0.608434</td>\n",
       "    </tr>\n",
       "    <tr>\n",
       "      <th>7</th>\n",
       "      <td>Sunday</td>\n",
       "      <td>COLLECTION</td>\n",
       "      <td>0.391566</td>\n",
       "    </tr>\n",
       "    <tr>\n",
       "      <th>8</th>\n",
       "      <td>Thursday</td>\n",
       "      <td>PAIDOFF</td>\n",
       "      <td>1.000000</td>\n",
       "    </tr>\n",
       "    <tr>\n",
       "      <th>9</th>\n",
       "      <td>Tuesday</td>\n",
       "      <td>PAIDOFF</td>\n",
       "      <td>1.000000</td>\n",
       "    </tr>\n",
       "    <tr>\n",
       "      <th>10</th>\n",
       "      <td>Wednesday</td>\n",
       "      <td>PAIDOFF</td>\n",
       "      <td>1.000000</td>\n",
       "    </tr>\n",
       "  </tbody>\n",
       "</table>\n",
       "</div>"
      ],
      "text/plain": [
       "   day_of_name loan_status  percentage\n",
       "0       Friday  COLLECTION    0.500000\n",
       "1       Friday     PAIDOFF    0.500000\n",
       "2       Monday     PAIDOFF    0.965517\n",
       "3       Monday  COLLECTION    0.034483\n",
       "4     Saturday     PAIDOFF    0.548387\n",
       "5     Saturday  COLLECTION    0.451613\n",
       "6       Sunday     PAIDOFF    0.608434\n",
       "7       Sunday  COLLECTION    0.391566\n",
       "8     Thursday     PAIDOFF    1.000000\n",
       "9      Tuesday     PAIDOFF    1.000000\n",
       "10   Wednesday     PAIDOFF    1.000000"
      ]
     },
     "execution_count": 15,
     "metadata": {},
     "output_type": "execute_result"
    }
   ],
   "source": [
    "df_date_name = df[[\"day_of_name\", \"loan_status\"]]\n",
    "df_groupby_date_name = (df_date_name.groupby([\"day_of_name\"])[\"loan_status\"]\n",
    "                        .value_counts(normalize=True)\n",
    "                        .rename(\"percentage\")\n",
    "                        .reset_index()\n",
    "                        .sort_values(\"day_of_name\"))\n",
    "df_groupby_date_name"
   ]
  },
  {
   "cell_type": "code",
   "execution_count": 16,
   "id": "57e42528",
   "metadata": {},
   "outputs": [
    {
     "data": {
      "text/plain": [
       "<AxesSubplot:xlabel='day_of_name', ylabel='count'>"
      ]
     },
     "execution_count": 16,
     "metadata": {},
     "output_type": "execute_result"
    },
    {
     "data": {
      "image/png": "[encoded data removed]",
      "text/plain": [
       "<Figure size 432x288 with 1 Axes>"
      ]
     },
     "metadata": {
      "needs_background": "light"
     },
     "output_type": "display_data"
    }
   ],
   "source": [
    "sns.countplot(x= \"day_of_name\", hue = \"loan_status\", data = df_date_name)"
   ]
  },
  {
   "cell_type": "markdown",
   "id": "c4faecce",
   "metadata": {},
   "source": [
    "We see people who get the loan at the end of the week don't pay it off ( the  number collection is high), so I split data in effective_date become two class: \n",
    "* Class 1: monday, tuesday, wednesday, thursday; \n",
    "* Class 2: friday, saturday, sunday.\n"
   ]
  },
  {
   "cell_type": "markdown",
   "id": "519ac170",
   "metadata": {},
   "source": [
    "Let's convert class 1 to 0 and class 2 to 1:"
   ]
  },
  {
   "cell_type": "code",
   "execution_count": 17,
   "id": "cedacf21",
   "metadata": {},
   "outputs": [],
   "source": [
    "df[\"weekend\"] = df[\"day_of_name_number\"].apply(lambda x: 1 if (x> 3) else 0)"
   ]
  },
  {
   "cell_type": "code",
   "execution_count": 18,
   "id": "b77e04de",
   "metadata": {},
   "outputs": [
    {
     "data": {
      "text/html": [
       "<div>\n",
       "<style scoped>\n",
       "    .dataframe tbody tr th:only-of-type {\n",
       "        vertical-align: middle;\n",
       "    }\n",
       "\n",
       "    .dataframe tbody tr th {\n",
       "        vertical-align: top;\n",
       "    }\n",
       "\n",
       "    .dataframe thead th {\n",
       "        text-align: right;\n",
       "    }\n",
       "</style>\n",
       "<table border=\"1\" class=\"dataframe\">\n",
       "  <thead>\n",
       "    <tr style=\"text-align: right;\">\n",
       "      <th></th>\n",
       "      <th>loan_status</th>\n",
       "      <th>Principal</th>\n",
       "      <th>terms</th>\n",
       "      <th>effective_date</th>\n",
       "      <th>due_date</th>\n",
       "      <th>age</th>\n",
       "      <th>education</th>\n",
       "      <th>Gender</th>\n",
       "      <th>day_of_name</th>\n",
       "      <th>day_of_name_number</th>\n",
       "      <th>weekend</th>\n",
       "    </tr>\n",
       "  </thead>\n",
       "  <tbody>\n",
       "    <tr>\n",
       "      <th>0</th>\n",
       "      <td>PAIDOFF</td>\n",
       "      <td>1000</td>\n",
       "      <td>30</td>\n",
       "      <td>2016-09-08</td>\n",
       "      <td>2016-10-07</td>\n",
       "      <td>45</td>\n",
       "      <td>High School or Below</td>\n",
       "      <td>male</td>\n",
       "      <td>Thursday</td>\n",
       "      <td>3</td>\n",
       "      <td>0</td>\n",
       "    </tr>\n",
       "    <tr>\n",
       "      <th>1</th>\n",
       "      <td>PAIDOFF</td>\n",
       "      <td>1000</td>\n",
       "      <td>30</td>\n",
       "      <td>2016-09-08</td>\n",
       "      <td>2016-10-07</td>\n",
       "      <td>33</td>\n",
       "      <td>Bechalor</td>\n",
       "      <td>female</td>\n",
       "      <td>Thursday</td>\n",
       "      <td>3</td>\n",
       "      <td>0</td>\n",
       "    </tr>\n",
       "    <tr>\n",
       "      <th>2</th>\n",
       "      <td>PAIDOFF</td>\n",
       "      <td>1000</td>\n",
       "      <td>15</td>\n",
       "      <td>2016-09-08</td>\n",
       "      <td>2016-09-22</td>\n",
       "      <td>27</td>\n",
       "      <td>college</td>\n",
       "      <td>male</td>\n",
       "      <td>Thursday</td>\n",
       "      <td>3</td>\n",
       "      <td>0</td>\n",
       "    </tr>\n",
       "    <tr>\n",
       "      <th>3</th>\n",
       "      <td>PAIDOFF</td>\n",
       "      <td>1000</td>\n",
       "      <td>30</td>\n",
       "      <td>2016-09-09</td>\n",
       "      <td>2016-10-08</td>\n",
       "      <td>28</td>\n",
       "      <td>college</td>\n",
       "      <td>female</td>\n",
       "      <td>Friday</td>\n",
       "      <td>4</td>\n",
       "      <td>1</td>\n",
       "    </tr>\n",
       "    <tr>\n",
       "      <th>4</th>\n",
       "      <td>PAIDOFF</td>\n",
       "      <td>1000</td>\n",
       "      <td>30</td>\n",
       "      <td>2016-09-09</td>\n",
       "      <td>2016-10-08</td>\n",
       "      <td>29</td>\n",
       "      <td>college</td>\n",
       "      <td>male</td>\n",
       "      <td>Friday</td>\n",
       "      <td>4</td>\n",
       "      <td>1</td>\n",
       "    </tr>\n",
       "  </tbody>\n",
       "</table>\n",
       "</div>"
      ],
      "text/plain": [
       "  loan_status  Principal  terms effective_date   due_date  age  \\\n",
       "0     PAIDOFF       1000     30     2016-09-08 2016-10-07   45   \n",
       "1     PAIDOFF       1000     30     2016-09-08 2016-10-07   33   \n",
       "2     PAIDOFF       1000     15     2016-09-08 2016-09-22   27   \n",
       "3     PAIDOFF       1000     30     2016-09-09 2016-10-08   28   \n",
       "4     PAIDOFF       1000     30     2016-09-09 2016-10-08   29   \n",
       "\n",
       "              education  Gender day_of_name  day_of_name_number  weekend  \n",
       "0  High School or Below    male    Thursday                   3        0  \n",
       "1              Bechalor  female    Thursday                   3        0  \n",
       "2               college    male    Thursday                   3        0  \n",
       "3               college  female      Friday                   4        1  \n",
       "4               college    male      Friday                   4        1  "
      ]
     },
     "execution_count": 18,
     "metadata": {},
     "output_type": "execute_result"
    }
   ],
   "source": [
    "df.head()"
   ]
  },
  {
   "cell_type": "markdown",
   "id": "a5214d1a",
   "metadata": {},
   "source": [
    "### Feature loan_status and Gender"
   ]
  },
  {
   "cell_type": "code",
   "execution_count": 19,
   "id": "cc78877e",
   "metadata": {},
   "outputs": [
    {
     "data": {
      "text/plain": [
       "Gender  loan_status\n",
       "female  PAIDOFF        0.865385\n",
       "        COLLECTION     0.134615\n",
       "male    PAIDOFF        0.731293\n",
       "        COLLECTION     0.268707\n",
       "Name: loan_status, dtype: float64"
      ]
     },
     "execution_count": 19,
     "metadata": {},
     "output_type": "execute_result"
    }
   ],
   "source": [
    "df_gender = df[[\"Gender\", \"loan_status\"]]\n",
    "df_gender_groupby = (df_gender.groupby([\"Gender\"])[\"loan_status\"]\n",
    "                     .value_counts(normalize=True))\n",
    "                     \n",
    "                     \n",
    "df_gender_groupby.head()"
   ]
  },
  {
   "cell_type": "markdown",
   "id": "df3d8dce",
   "metadata": {},
   "source": [
    "We can see the percentage of the male collection is higher than the percentage of female collect (0.27% > 0.13%)"
   ]
  },
  {
   "cell_type": "code",
   "execution_count": 20,
   "id": "5f242760",
   "metadata": {},
   "outputs": [
    {
     "data": {
      "text/plain": [
       "<AxesSubplot:xlabel='Gender', ylabel='count'>"
      ]
     },
     "execution_count": 20,
     "metadata": {},
     "output_type": "execute_result"
    },
    {
     "data": {
      "image/png": "[encoded data removed]",
      "text/plain": [
       "<Figure size 432x288 with 1 Axes>"
      ]
     },
     "metadata": {
      "needs_background": "light"
     },
     "output_type": "display_data"
    }
   ],
   "source": [
    "sns.countplot(x = \"Gender\", hue = \"loan_status\", data = df_gender)"
   ]
  },
  {
   "cell_type": "markdown",
   "id": "7a48edab",
   "metadata": {},
   "source": [
    "The observation of males using banks service (paid-off and collect) is higher than females. "
   ]
  },
  {
   "cell_type": "markdown",
   "id": "da8a1ca5",
   "metadata": {},
   "source": [
    "### Feature education and loan_status"
   ]
  },
  {
   "cell_type": "code",
   "execution_count": 21,
   "id": "fad1702d",
   "metadata": {},
   "outputs": [],
   "source": [
    "df_education = df[[\"education\",\"loan_status\"]]"
   ]
  },
  {
   "cell_type": "code",
   "execution_count": 22,
   "id": "07a86ad0",
   "metadata": {},
   "outputs": [
    {
     "data": {
      "text/plain": [
       "<AxesSubplot:xlabel='education', ylabel='count'>"
      ]
     },
     "execution_count": 22,
     "metadata": {},
     "output_type": "execute_result"
    },
    {
     "data": {
      "image/png": "[encoded data removed]",
      "text/plain": [
       "<Figure size 432x288 with 1 Axes>"
      ]
     },
     "metadata": {
      "needs_background": "light"
     },
     "output_type": "display_data"
    }
   ],
   "source": [
    "sns.countplot(x = \"education\", hue = \"loan_status\", data = df_education)"
   ]
  },
  {
   "cell_type": "code",
   "execution_count": 23,
   "id": "966edfd0",
   "metadata": {},
   "outputs": [
    {
     "data": {
      "text/plain": [
       "education             loan_status\n",
       "Bechalor              PAIDOFF        0.750000\n",
       "                      COLLECTION     0.250000\n",
       "High School or Below  PAIDOFF        0.741722\n",
       "                      COLLECTION     0.258278\n",
       "Master or Above       COLLECTION     0.500000\n",
       "                      PAIDOFF        0.500000\n",
       "college               PAIDOFF        0.765101\n",
       "                      COLLECTION     0.234899\n",
       "Name: loan_status, dtype: float64"
      ]
     },
     "execution_count": 23,
     "metadata": {},
     "output_type": "execute_result"
    }
   ],
   "source": [
    "df_groupby_edu = (df_education.groupby([\"education\"])['loan_status']\n",
    "                  .value_counts(normalize = True))\n",
    "df_groupby_edu                "
   ]
  },
  {
   "cell_type": "markdown",
   "id": "5bb9c339",
   "metadata": {},
   "source": [
    "We can see some insight about a relative between education feature and loan status feature:\n",
    "* Customers using bank service have education primarily in high school and collect, rarely education in bachelor and master.\n",
    "\n",
    "* Nearly 25% of customers in high school, college, and bachelor have collection status."
   ]
  },
  {
   "cell_type": "code",
   "execution_count": 24,
   "id": "27b9669b",
   "metadata": {},
   "outputs": [],
   "source": [
    "df_terms = df[[\"terms\", \"loan_status\"]]"
   ]
  },
  {
   "cell_type": "code",
   "execution_count": 25,
   "id": "fcfc6a20",
   "metadata": {},
   "outputs": [
    {
     "data": {
      "text/plain": [
       "<AxesSubplot:xlabel='terms', ylabel='count'>"
      ]
     },
     "execution_count": 25,
     "metadata": {},
     "output_type": "execute_result"
    },
    {
     "data": {
      "image/png": "[encoded data removed]",
      "text/plain": [
       "<Figure size 432x288 with 1 Axes>"
      ]
     },
     "metadata": {
      "needs_background": "light"
     },
     "output_type": "display_data"
    }
   ],
   "source": [
    "sns.countplot(x = \"terms\", hue = \"loan_status\", data = df_terms)"
   ]
  },
  {
   "cell_type": "code",
   "execution_count": 26,
   "id": "e88845de",
   "metadata": {},
   "outputs": [
    {
     "data": {
      "text/plain": [
       "terms  loan_status\n",
       "7      PAIDOFF        1.000000\n",
       "15     PAIDOFF        0.770270\n",
       "       COLLECTION     0.229730\n",
       "30     PAIDOFF        0.717391\n",
       "       COLLECTION     0.282609\n",
       "Name: loan_status, dtype: float64"
      ]
     },
     "execution_count": 26,
     "metadata": {},
     "output_type": "execute_result"
    }
   ],
   "source": [
    "df_groupby_terms = df_terms.groupby([\"terms\"])[\"loan_status\"].value_counts(normalize = True)\n",
    "df_groupby_terms"
   ]
  },
  {
   "cell_type": "markdown",
   "id": "444ba896",
   "metadata": {},
   "source": [
    "* We can see most customers have collection status is using banking services (15 terms, 30 terms).\n",
    " \n",
    "*the percentage collection using service (15 terms) is 0.23% and service(30 terms) is 0.28%."
   ]
  },
  {
   "cell_type": "code",
   "execution_count": 27,
   "id": "d96ea986",
   "metadata": {},
   "outputs": [],
   "source": [
    "df_terms_education = df[[\"terms\", \"education\"]]"
   ]
  },
  {
   "cell_type": "code",
   "execution_count": 28,
   "id": "80d23e7c",
   "metadata": {},
   "outputs": [
    {
     "data": {
      "text/plain": [
       "<AxesSubplot:xlabel='terms', ylabel='count'>"
      ]
     },
     "execution_count": 28,
     "metadata": {},
     "output_type": "execute_result"
    },
    {
     "data": {
      "image/png": "[encoded data removed]",
      "text/plain": [
       "<Figure size 432x288 with 1 Axes>"
      ]
     },
     "metadata": {
      "needs_background": "light"
     },
     "output_type": "display_data"
    }
   ],
   "source": [
    "sns.countplot(x = \"terms\", hue = \"education\", data = df_terms_education)"
   ]
  },
  {
   "cell_type": "code",
   "execution_count": 29,
   "id": "17dad535",
   "metadata": {},
   "outputs": [
    {
     "data": {
      "text/plain": [
       "terms  education           \n",
       "7      college                 0.500000\n",
       "       High School or Below    0.357143\n",
       "       Bechalor                0.142857\n",
       "15     college                 0.452703\n",
       "       High School or Below    0.385135\n",
       "       Bechalor                0.148649\n",
       "       Master or Above         0.013514\n",
       "30     High School or Below    0.483696\n",
       "       college                 0.407609\n",
       "       Bechalor                0.108696\n",
       "Name: education, dtype: float64"
      ]
     },
     "execution_count": 29,
     "metadata": {},
     "output_type": "execute_result"
    }
   ],
   "source": [
    "df_terms_education_groupby = df_terms_education.groupby([\"terms\"])[\"education\"].value_counts(normalize = True)\n",
    "df_terms_education_groupby"
   ]
  },
  {
   "cell_type": "markdown",
   "id": "d5eb02ac",
   "metadata": {},
   "source": [
    "Most customers have education in high school and college using service( 15 terms and 30 term)"
   ]
  },
  {
   "cell_type": "markdown",
   "id": "c359343b",
   "metadata": {},
   "source": [
    "# 3. PRE - PROCESSING DATA"
   ]
  },
  {
   "cell_type": "markdown",
   "id": "67cc7052",
   "metadata": {},
   "source": [
    "## 3.1 Cover categories feature to numberal feature"
   ]
  },
  {
   "cell_type": "code",
   "execution_count": 30,
   "id": "5f7a39f2",
   "metadata": {},
   "outputs": [
    {
     "data": {
      "text/plain": [
       "0      0\n",
       "1      1\n",
       "2      0\n",
       "3      1\n",
       "4      0\n",
       "      ..\n",
       "341    0\n",
       "342    0\n",
       "343    0\n",
       "344    0\n",
       "345    0\n",
       "Name: Gender, Length: 346, dtype: int64"
      ]
     },
     "execution_count": 30,
     "metadata": {},
     "output_type": "execute_result"
    }
   ],
   "source": [
    "df[\"Gender\"] = df[\"Gender\"].replace(to_replace = [\"male\", \"female\"], value = [0, 1])\n",
    "df[\"Gender\"]"
   ]
  },
  {
   "cell_type": "code",
   "execution_count": 31,
   "id": "ec4aacfb",
   "metadata": {},
   "outputs": [],
   "source": [
    "df[\"loan_status\"] = df[\"loan_status\"].replace(to_replace = [\"PAIDOFF\", \"COLLECTION\"], value = [0, 1])"
   ]
  },
  {
   "cell_type": "code",
   "execution_count": 32,
   "id": "b61f26ee",
   "metadata": {},
   "outputs": [],
   "source": [
    "df[\"education\"] = df[\"education\"].replace(to_replace = [\"High School or Below\", \"college\", \"Bechalor\", \"Master or Above\"]\n",
    "                                          , value = [0, 1, 2, 3])"
   ]
  },
  {
   "cell_type": "code",
   "execution_count": 33,
   "id": "89205cc9",
   "metadata": {},
   "outputs": [
    {
     "data": {
      "text/html": [
       "<div>\n",
       "<style scoped>\n",
       "    .dataframe tbody tr th:only-of-type {\n",
       "        vertical-align: middle;\n",
       "    }\n",
       "\n",
       "    .dataframe tbody tr th {\n",
       "        vertical-align: top;\n",
       "    }\n",
       "\n",
       "    .dataframe thead th {\n",
       "        text-align: right;\n",
       "    }\n",
       "</style>\n",
       "<table border=\"1\" class=\"dataframe\">\n",
       "  <thead>\n",
       "    <tr style=\"text-align: right;\">\n",
       "      <th></th>\n",
       "      <th>loan_status</th>\n",
       "      <th>Principal</th>\n",
       "      <th>terms</th>\n",
       "      <th>effective_date</th>\n",
       "      <th>due_date</th>\n",
       "      <th>age</th>\n",
       "      <th>education</th>\n",
       "      <th>Gender</th>\n",
       "      <th>day_of_name</th>\n",
       "      <th>day_of_name_number</th>\n",
       "      <th>weekend</th>\n",
       "    </tr>\n",
       "  </thead>\n",
       "  <tbody>\n",
       "    <tr>\n",
       "      <th>0</th>\n",
       "      <td>0</td>\n",
       "      <td>1000</td>\n",
       "      <td>30</td>\n",
       "      <td>2016-09-08</td>\n",
       "      <td>2016-10-07</td>\n",
       "      <td>45</td>\n",
       "      <td>0</td>\n",
       "      <td>0</td>\n",
       "      <td>Thursday</td>\n",
       "      <td>3</td>\n",
       "      <td>0</td>\n",
       "    </tr>\n",
       "    <tr>\n",
       "      <th>1</th>\n",
       "      <td>0</td>\n",
       "      <td>1000</td>\n",
       "      <td>30</td>\n",
       "      <td>2016-09-08</td>\n",
       "      <td>2016-10-07</td>\n",
       "      <td>33</td>\n",
       "      <td>2</td>\n",
       "      <td>1</td>\n",
       "      <td>Thursday</td>\n",
       "      <td>3</td>\n",
       "      <td>0</td>\n",
       "    </tr>\n",
       "    <tr>\n",
       "      <th>2</th>\n",
       "      <td>0</td>\n",
       "      <td>1000</td>\n",
       "      <td>15</td>\n",
       "      <td>2016-09-08</td>\n",
       "      <td>2016-09-22</td>\n",
       "      <td>27</td>\n",
       "      <td>1</td>\n",
       "      <td>0</td>\n",
       "      <td>Thursday</td>\n",
       "      <td>3</td>\n",
       "      <td>0</td>\n",
       "    </tr>\n",
       "    <tr>\n",
       "      <th>3</th>\n",
       "      <td>0</td>\n",
       "      <td>1000</td>\n",
       "      <td>30</td>\n",
       "      <td>2016-09-09</td>\n",
       "      <td>2016-10-08</td>\n",
       "      <td>28</td>\n",
       "      <td>1</td>\n",
       "      <td>1</td>\n",
       "      <td>Friday</td>\n",
       "      <td>4</td>\n",
       "      <td>1</td>\n",
       "    </tr>\n",
       "    <tr>\n",
       "      <th>4</th>\n",
       "      <td>0</td>\n",
       "      <td>1000</td>\n",
       "      <td>30</td>\n",
       "      <td>2016-09-09</td>\n",
       "      <td>2016-10-08</td>\n",
       "      <td>29</td>\n",
       "      <td>1</td>\n",
       "      <td>0</td>\n",
       "      <td>Friday</td>\n",
       "      <td>4</td>\n",
       "      <td>1</td>\n",
       "    </tr>\n",
       "  </tbody>\n",
       "</table>\n",
       "</div>"
      ],
      "text/plain": [
       "   loan_status  Principal  terms effective_date   due_date  age  education  \\\n",
       "0            0       1000     30     2016-09-08 2016-10-07   45          0   \n",
       "1            0       1000     30     2016-09-08 2016-10-07   33          2   \n",
       "2            0       1000     15     2016-09-08 2016-09-22   27          1   \n",
       "3            0       1000     30     2016-09-09 2016-10-08   28          1   \n",
       "4            0       1000     30     2016-09-09 2016-10-08   29          1   \n",
       "\n",
       "   Gender day_of_name  day_of_name_number  weekend  \n",
       "0       0    Thursday                   3        0  \n",
       "1       1    Thursday                   3        0  \n",
       "2       0    Thursday                   3        0  \n",
       "3       1      Friday                   4        1  \n",
       "4       0      Friday                   4        1  "
      ]
     },
     "execution_count": 33,
     "metadata": {},
     "output_type": "execute_result"
    }
   ],
   "source": [
    "df.head()"
   ]
  },
  {
   "cell_type": "markdown",
   "id": "354f09c5",
   "metadata": {},
   "source": [
    "## 3.2 Train and test dataset"
   ]
  },
  {
   "cell_type": "code",
   "execution_count": 34,
   "id": "24f226bd",
   "metadata": {},
   "outputs": [
    {
     "data": {
      "text/plain": [
       "0    0\n",
       "1    0\n",
       "2    0\n",
       "3    0\n",
       "4    0\n",
       "Name: loan_status, dtype: int64"
      ]
     },
     "execution_count": 34,
     "metadata": {},
     "output_type": "execute_result"
    }
   ],
   "source": [
    "y = df[\"loan_status\"]\n",
    "y.head()"
   ]
  },
  {
   "cell_type": "code",
   "execution_count": 35,
   "id": "ffefe062",
   "metadata": {},
   "outputs": [
    {
     "data": {
      "text/html": [
       "<div>\n",
       "<style scoped>\n",
       "    .dataframe tbody tr th:only-of-type {\n",
       "        vertical-align: middle;\n",
       "    }\n",
       "\n",
       "    .dataframe tbody tr th {\n",
       "        vertical-align: top;\n",
       "    }\n",
       "\n",
       "    .dataframe thead th {\n",
       "        text-align: right;\n",
       "    }\n",
       "</style>\n",
       "<table border=\"1\" class=\"dataframe\">\n",
       "  <thead>\n",
       "    <tr style=\"text-align: right;\">\n",
       "      <th></th>\n",
       "      <th>Principal</th>\n",
       "      <th>terms</th>\n",
       "      <th>age</th>\n",
       "      <th>education</th>\n",
       "      <th>Gender</th>\n",
       "      <th>weekend</th>\n",
       "    </tr>\n",
       "  </thead>\n",
       "  <tbody>\n",
       "    <tr>\n",
       "      <th>0</th>\n",
       "      <td>1000</td>\n",
       "      <td>30</td>\n",
       "      <td>45</td>\n",
       "      <td>0</td>\n",
       "      <td>0</td>\n",
       "      <td>0</td>\n",
       "    </tr>\n",
       "    <tr>\n",
       "      <th>1</th>\n",
       "      <td>1000</td>\n",
       "      <td>30</td>\n",
       "      <td>33</td>\n",
       "      <td>2</td>\n",
       "      <td>1</td>\n",
       "      <td>0</td>\n",
       "    </tr>\n",
       "    <tr>\n",
       "      <th>2</th>\n",
       "      <td>1000</td>\n",
       "      <td>15</td>\n",
       "      <td>27</td>\n",
       "      <td>1</td>\n",
       "      <td>0</td>\n",
       "      <td>0</td>\n",
       "    </tr>\n",
       "    <tr>\n",
       "      <th>3</th>\n",
       "      <td>1000</td>\n",
       "      <td>30</td>\n",
       "      <td>28</td>\n",
       "      <td>1</td>\n",
       "      <td>1</td>\n",
       "      <td>1</td>\n",
       "    </tr>\n",
       "    <tr>\n",
       "      <th>4</th>\n",
       "      <td>1000</td>\n",
       "      <td>30</td>\n",
       "      <td>29</td>\n",
       "      <td>1</td>\n",
       "      <td>0</td>\n",
       "      <td>1</td>\n",
       "    </tr>\n",
       "  </tbody>\n",
       "</table>\n",
       "</div>"
      ],
      "text/plain": [
       "   Principal  terms  age  education  Gender  weekend\n",
       "0       1000     30   45          0       0        0\n",
       "1       1000     30   33          2       1        0\n",
       "2       1000     15   27          1       0        0\n",
       "3       1000     30   28          1       1        1\n",
       "4       1000     30   29          1       0        1"
      ]
     },
     "execution_count": 35,
     "metadata": {},
     "output_type": "execute_result"
    }
   ],
   "source": [
    "x = df[[\"Principal\", \"terms\", \"age\", \"education\", \"Gender\", \"weekend\"]]\n",
    "x.head()"
   ]
  },
  {
   "cell_type": "code",
   "execution_count": 36,
   "id": "3b9c0b9e",
   "metadata": {},
   "outputs": [],
   "source": [
    "x = x.to_numpy()"
   ]
  },
  {
   "cell_type": "code",
   "execution_count": 37,
   "id": "d0efa2fb",
   "metadata": {},
   "outputs": [],
   "source": [
    "from sklearn.preprocessing import StandardScaler\n",
    "\n",
    "sta = preprocessing.StandardScaler()\n",
    "sta.fit(x)\n",
    "x = sta.transform(x)"
   ]
  },
  {
   "cell_type": "code",
   "execution_count": 38,
   "id": "f8d68ec9",
   "metadata": {},
   "outputs": [
    {
     "data": {
      "text/plain": [
       "array([[ 0.51578458,  0.92071769,  2.33152555, -0.99512471, -0.42056004,\n",
       "        -1.20577805],\n",
       "       [ 0.51578458,  0.92071769,  0.34170148,  1.83872837,  2.37778177,\n",
       "        -1.20577805],\n",
       "       [ 0.51578458, -0.95911111, -0.65321055,  0.42180183, -0.42056004,\n",
       "        -1.20577805],\n",
       "       ...,\n",
       "       [-1.31458942, -0.95911111,  1.33661351,  0.42180183, -0.42056004,\n",
       "        -1.20577805],\n",
       "       [ 0.51578458,  0.92071769, -0.48739188,  0.42180183, -0.42056004,\n",
       "        -1.20577805],\n",
       "       [ 0.51578458,  0.92071769, -0.81902922,  0.42180183, -0.42056004,\n",
       "        -1.20577805]])"
      ]
     },
     "execution_count": 38,
     "metadata": {},
     "output_type": "execute_result"
    }
   ],
   "source": [
    "x"
   ]
  },
  {
   "cell_type": "code",
   "execution_count": 39,
   "id": "9783c0fa",
   "metadata": {},
   "outputs": [],
   "source": [
    "from sklearn.model_selection import train_test_split\n",
    "\n",
    "x_train, x_test, y_train, y_test = train_test_split(x, y, test_size = 0.25)"
   ]
  },
  {
   "cell_type": "code",
   "execution_count": 40,
   "id": "31a20ff6",
   "metadata": {},
   "outputs": [
    {
     "name": "stdout",
     "output_type": "stream",
     "text": [
      "The shape of x_train and x_test: (259, 6) (87, 6)\n",
      "The shape of y_train and y_test: (259,) (87,)\n"
     ]
    }
   ],
   "source": [
    "print(\"The shape of x_train and x_test:\", x_train.shape, x_test.shape)\n",
    "print(\"The shape of y_train and y_test:\", y_train.shape, y_test.shape)"
   ]
  },
  {
   "cell_type": "markdown",
   "id": "3b6bb0dd",
   "metadata": {},
   "source": [
    "# 3. MODELLING"
   ]
  },
  {
   "cell_type": "markdown",
   "id": "0bff76c3",
   "metadata": {},
   "source": [
    "## 3.1 K- Nearest Neighbor"
   ]
  },
  {
   "cell_type": "markdown",
   "id": "5e3a10d9",
   "metadata": {},
   "source": [
    "### Finding the best K for dataset"
   ]
  },
  {
   "cell_type": "code",
   "execution_count": 41,
   "id": "a557963a",
   "metadata": {},
   "outputs": [],
   "source": [
    "from sklearn.neighbors import KNeighborsClassifier\n",
    "from sklearn import metrics\n",
    "from sklearn.metrics import accuracy_score"
   ]
  },
  {
   "cell_type": "code",
   "execution_count": 42,
   "id": "26cb2c3a",
   "metadata": {},
   "outputs": [
    {
     "data": {
      "text/plain": [
       "array([0.72413793, 0.75862069, 0.7816092 , 0.75862069, 0.73563218,\n",
       "       0.73563218, 0.73563218, 0.75862069, 0.74712644])"
      ]
     },
     "execution_count": 42,
     "metadata": {},
     "output_type": "execute_result"
    }
   ],
   "source": [
    "k_nearest = 10\n",
    "\n",
    "accuracy_knearest = np.zeros(k_nearest - 1)\n",
    "\n",
    "for n in range(1, k_nearest):\n",
    "    #train and predict model\n",
    "    KNN = KNeighborsClassifier(n_neighbors = n)\n",
    "    kneighbor_model = KNN.fit(x_train, y_train)\n",
    "    y_pred_KNN_demo = kneighbor_model.predict(x_test)\n",
    "    accuracy_knearest[n - 1] = metrics.accuracy_score(y_test, y_pred_KNN_demo)\n",
    "    \n",
    "accuracy_knearest"
   ]
  },
  {
   "cell_type": "code",
   "execution_count": 43,
   "id": "2df4eb6d",
   "metadata": {},
   "outputs": [
    {
     "data": {
      "image/png": "[encoded data removed]",
      "text/plain": [
       "<Figure size 432x288 with 1 Axes>"
      ]
     },
     "metadata": {
      "needs_background": "light"
     },
     "output_type": "display_data"
    }
   ],
   "source": [
    "plt.plot(range(1, k_nearest), accuracy_knearest, \"g\")\n",
    "plt.xlabel(\"Number of Neighbors (K)\")\n",
    "plt.ylabel(\"Accuracy score\")\n",
    "plt.tight_layout()\n",
    "plt.show()"
   ]
  },
  {
   "cell_type": "markdown",
   "id": "51c5d615",
   "metadata": {},
   "source": [
    "We can see the best number of neighbor K have highest accuracy scored is 3"
   ]
  },
  {
   "cell_type": "markdown",
   "id": "090dbccd",
   "metadata": {},
   "source": [
    "### Hyperparameter turing for KNN model"
   ]
  },
  {
   "cell_type": "code",
   "execution_count": 44,
   "id": "5b8b3209",
   "metadata": {},
   "outputs": [],
   "source": [
    "from sklearn.model_selection import RepeatedStratifiedKFold\n",
    "from sklearn.model_selection import GridSearchCV"
   ]
  },
  {
   "cell_type": "code",
   "execution_count": 45,
   "id": "f2b8e56a",
   "metadata": {},
   "outputs": [
    {
     "name": "stdout",
     "output_type": "stream",
     "text": [
      "Best: 0.345601 using {'metric': 'manhattan', 'n_neighbors': 5, 'weights': 'uniform'}\n"
     ]
    }
   ],
   "source": [
    "# define models and parameters\n",
    "KNN = KNeighborsClassifier()\n",
    "n_neighbors = range(1, 10, 1)\n",
    "weights = ['uniform', 'distance']\n",
    "metrics = ['euclidean', 'manhattan', 'minkowski']\n",
    "\n",
    "# define grid search\n",
    "grid = dict(n_neighbors=n_neighbors, \n",
    "            weights=weights, \n",
    "            metric=metrics)\n",
    "\n",
    "cv = RepeatedStratifiedKFold(n_splits=10, n_repeats=3, random_state=1)\n",
    "\n",
    "grid_search = GridSearchCV(estimator=KNN, \n",
    "                           param_grid=grid, \n",
    "                           n_jobs=-1, \n",
    "                           cv=cv, \n",
    "                           scoring='f1',\n",
    "                           error_score=0)\n",
    "\n",
    "grid_result = grid_search.fit(x_train, y_train)\n",
    "\n",
    "print(\"Best: %f using %s\" % (grid_result.best_score_, grid_result.best_params_))"
   ]
  },
  {
   "cell_type": "markdown",
   "id": "d5bb03a5",
   "metadata": {},
   "source": [
    "### Using K = 5 to predict loan_status "
   ]
  },
  {
   "cell_type": "code",
   "execution_count": 59,
   "id": "ea25bf72",
   "metadata": {},
   "outputs": [],
   "source": [
    "KNN_offical = KNeighborsClassifier(n_neighbors = 5, metric = \"manhattan\", weights = 'uniform')\n",
    "KNN_model_official = KNN_offical.fit(x_train, y_train)\n",
    "\n",
    "y_pred_KNN = KNN_model_official.predict(x_test)"
   ]
  },
  {
   "cell_type": "code",
   "execution_count": 62,
   "id": "64c5b15c",
   "metadata": {},
   "outputs": [],
   "source": [
    "f1_score_KNN = f1_score(y_test,y_pred_KNN)\n",
    "jaccard_score_KNN = jaccard_score(y_test, y_pred_KNN)\n",
    "log_loss_KNN = log_loss(y_test, y_pred_KNN)"
   ]
  },
  {
   "cell_type": "code",
   "execution_count": 63,
   "id": "3527a2ba",
   "metadata": {},
   "outputs": [
    {
     "name": "stdout",
     "output_type": "stream",
     "text": [
      "F1_score value in KNN model: 0.3889\n",
      "Jaccard score value in KNN model: 0.2414\n",
      "Log loss value in KNN model: 8.734\n"
     ]
    }
   ],
   "source": [
    "print(\"F1_score value in KNN model:\", round(f1_score_KNN, 4))\n",
    "print(\"Jaccard score value in KNN model:\", round(jaccard_score_KNN, 4))\n",
    "print(\"Log loss value in KNN model:\", round(log_loss_KNN, 4))"
   ]
  },
  {
   "cell_type": "code",
   "execution_count": 64,
   "id": "43503a13",
   "metadata": {},
   "outputs": [
    {
     "data": {
      "image/png": "[encoded data removed]",
      "text/plain": [
       "<Figure size 432x288 with 2 Axes>"
      ]
     },
     "metadata": {
      "needs_background": "light"
     },
     "output_type": "display_data"
    }
   ],
   "source": [
    "confusion_matrix_KNN = plot_confusion_matrix(KNN_model_official,x_test, y_test)"
   ]
  },
  {
   "cell_type": "markdown",
   "id": "4d0ad47d",
   "metadata": {},
   "source": [
    "## 3.2 Decision Tree Classification"
   ]
  },
  {
   "cell_type": "code",
   "execution_count": 65,
   "id": "1c42cca3",
   "metadata": {},
   "outputs": [],
   "source": [
    "from sklearn.tree import DecisionTreeClassifier\n",
    "\n",
    "decision_tree = DecisionTreeClassifier(criterion = \"gini\", \n",
    "                                       max_depth = 6, random_state= 0)\n",
    "tree_model = decision_tree.fit(x_train, y_train)\n",
    "\n",
    "y_pred_tree = tree_model.predict(x_test)"
   ]
  },
  {
   "cell_type": "code",
   "execution_count": 66,
   "id": "502f210d",
   "metadata": {},
   "outputs": [
    {
     "data": {
      "text/plain": [
       "[Text(291.1304347826087, 605.7257142857143, 'X[5] <= -0.188\\ngini = 0.372\\nsamples = 259\\nvalue = [195, 64]'),\n",
       " Text(145.56521739130434, 512.537142857143, 'X[3] <= -0.287\\ngini = 0.055\\nsamples = 106\\nvalue = [103, 3]'),\n",
       " Text(109.17391304347825, 419.34857142857146, 'gini = 0.0\\nsamples = 51\\nvalue = [51, 0]'),\n",
       " Text(181.95652173913044, 419.34857142857146, 'X[2] <= 1.254\\ngini = 0.103\\nsamples = 55\\nvalue = [52, 3]'),\n",
       " Text(109.17391304347825, 326.16, 'X[2] <= -0.404\\ngini = 0.075\\nsamples = 51\\nvalue = [49, 2]'),\n",
       " Text(72.78260869565217, 232.9714285714286, 'X[1] <= -0.019\\ngini = 0.165\\nsamples = 22\\nvalue = [20, 2]'),\n",
       " Text(36.391304347826086, 139.7828571428571, 'gini = 0.0\\nsamples = 14\\nvalue = [14, 0]'),\n",
       " Text(109.17391304347825, 139.7828571428571, 'X[4] <= 0.979\\ngini = 0.375\\nsamples = 8\\nvalue = [6, 2]'),\n",
       " Text(72.78260869565217, 46.594285714285775, 'gini = 0.408\\nsamples = 7\\nvalue = [5, 2]'),\n",
       " Text(145.56521739130434, 46.594285714285775, 'gini = 0.0\\nsamples = 1\\nvalue = [1, 0]'),\n",
       " Text(145.56521739130434, 232.9714285714286, 'gini = 0.0\\nsamples = 29\\nvalue = [29, 0]'),\n",
       " Text(254.7391304347826, 326.16, 'X[2] <= 1.42\\ngini = 0.375\\nsamples = 4\\nvalue = [3, 1]'),\n",
       " Text(218.3478260869565, 232.9714285714286, 'X[1] <= -0.019\\ngini = 0.5\\nsamples = 2\\nvalue = [1, 1]'),\n",
       " Text(181.95652173913044, 139.7828571428571, 'gini = 0.0\\nsamples = 1\\nvalue = [0, 1]'),\n",
       " Text(254.7391304347826, 139.7828571428571, 'gini = 0.0\\nsamples = 1\\nvalue = [1, 0]'),\n",
       " Text(291.1304347826087, 232.9714285714286, 'gini = 0.0\\nsamples = 2\\nvalue = [2, 0]'),\n",
       " Text(436.695652173913, 512.537142857143, 'X[2] <= -1.234\\ngini = 0.479\\nsamples = 153\\nvalue = [92, 61]'),\n",
       " Text(363.9130434782609, 419.34857142857146, 'X[0] <= -0.399\\ngini = 0.18\\nsamples = 10\\nvalue = [9, 1]'),\n",
       " Text(327.52173913043475, 326.16, 'gini = 0.0\\nsamples = 1\\nvalue = [0, 1]'),\n",
       " Text(400.30434782608694, 326.16, 'gini = 0.0\\nsamples = 9\\nvalue = [9, 0]'),\n",
       " Text(509.4782608695652, 419.34857142857146, 'X[1] <= -1.46\\ngini = 0.487\\nsamples = 143\\nvalue = [83, 60]'),\n",
       " Text(473.0869565217391, 326.16, 'gini = 0.0\\nsamples = 5\\nvalue = [5, 0]'),\n",
       " Text(545.8695652173913, 326.16, 'X[2] <= 0.259\\ngini = 0.491\\nsamples = 138\\nvalue = [78, 60]'),\n",
       " Text(400.30434782608694, 232.9714285714286, 'X[2] <= -0.902\\ngini = 0.5\\nsamples = 81\\nvalue = [40, 41]'),\n",
       " Text(327.52173913043475, 139.7828571428571, 'X[4] <= 0.979\\ngini = 0.459\\nsamples = 14\\nvalue = [5, 9]'),\n",
       " Text(291.1304347826087, 46.594285714285775, 'gini = 0.426\\nsamples = 13\\nvalue = [4, 9]'),\n",
       " Text(363.9130434782609, 46.594285714285775, 'gini = 0.0\\nsamples = 1\\nvalue = [1, 0]'),\n",
       " Text(473.0869565217391, 139.7828571428571, 'X[3] <= -0.287\\ngini = 0.499\\nsamples = 67\\nvalue = [35, 32]'),\n",
       " Text(436.695652173913, 46.594285714285775, 'gini = 0.498\\nsamples = 30\\nvalue = [14, 16]'),\n",
       " Text(509.4782608695652, 46.594285714285775, 'gini = 0.491\\nsamples = 37\\nvalue = [21, 16]'),\n",
       " Text(691.4347826086956, 232.9714285714286, 'X[3] <= -0.287\\ngini = 0.444\\nsamples = 57\\nvalue = [38, 19]'),\n",
       " Text(618.6521739130435, 139.7828571428571, 'X[4] <= 0.979\\ngini = 0.496\\nsamples = 22\\nvalue = [12, 10]'),\n",
       " Text(582.2608695652174, 46.594285714285775, 'gini = 0.499\\nsamples = 19\\nvalue = [9, 10]'),\n",
       " Text(655.0434782608695, 46.594285714285775, 'gini = 0.0\\nsamples = 3\\nvalue = [3, 0]'),\n",
       " Text(764.2173913043478, 139.7828571428571, 'X[2] <= 0.922\\ngini = 0.382\\nsamples = 35\\nvalue = [26, 9]'),\n",
       " Text(727.8260869565217, 46.594285714285775, 'gini = 0.33\\nsamples = 24\\nvalue = [19, 5]'),\n",
       " Text(800.6086956521739, 46.594285714285775, 'gini = 0.463\\nsamples = 11\\nvalue = [7, 4]')]"
      ]
     },
     "execution_count": 66,
     "metadata": {},
     "output_type": "execute_result"
    },
    {
     "data": {
      "image/png": "[encoded data removed]",
      "text/plain": [
       "<Figure size 1080x864 with 1 Axes>"
      ]
     },
     "metadata": {
      "needs_background": "light"
     },
     "output_type": "display_data"
    }
   ],
   "source": [
    "plt.figure(figsize=(15,12))\n",
    "\n",
    "from sklearn import tree\n",
    "\n",
    "tree.plot_tree(tree_model.fit(x_train, y_train))"
   ]
  },
  {
   "cell_type": "code",
   "execution_count": 67,
   "id": "f9a2c596",
   "metadata": {},
   "outputs": [
    {
     "name": "stdout",
     "output_type": "stream",
     "text": [
      "The jacard score in Decision tree model   0.7241379310344828\n"
     ]
    }
   ],
   "source": [
    "print(\"The jacard score in Decision tree model  \",accuracy_score(y_test, y_pred_tree))"
   ]
  },
  {
   "cell_type": "code",
   "execution_count": 68,
   "id": "f12e3df6",
   "metadata": {},
   "outputs": [],
   "source": [
    "f1_score_tree = f1_score(y_test, y_pred_tree)\n",
    "jaccard_score_tree = jaccard_score(y_test, y_pred_tree)\n",
    "log_loss_tree = log_loss(y_test, y_pred_tree)"
   ]
  },
  {
   "cell_type": "code",
   "execution_count": 69,
   "id": "a751aa2a",
   "metadata": {},
   "outputs": [
    {
     "name": "stdout",
     "output_type": "stream",
     "text": [
      "F1_score value in Decision tree model: 0.4\n",
      "Jaccard score value in Decision tree model: 0.25\n",
      "Log loss value in Decision tree model: 9.528\n"
     ]
    }
   ],
   "source": [
    "print(\"F1_score value in Decision tree model:\", round(f1_score_tree, 4))\n",
    "print(\"Jaccard score value in Decision tree model:\", round(jaccard_score_tree, 4))\n",
    "print(\"Log loss value in Decision tree model:\", round(log_loss_tree, 4))"
   ]
  },
  {
   "cell_type": "code",
   "execution_count": 70,
   "id": "3b0a6f58",
   "metadata": {},
   "outputs": [
    {
     "data": {
      "image/png": "[encoded data removed]",
      "text/plain": [
       "<Figure size 432x288 with 2 Axes>"
      ]
     },
     "metadata": {
      "needs_background": "light"
     },
     "output_type": "display_data"
    }
   ],
   "source": [
    "confusion_matrix_tree = plot_confusion_matrix(tree_model, x_test, y_test)"
   ]
  },
  {
   "cell_type": "markdown",
   "id": "8a60f3d3",
   "metadata": {},
   "source": [
    "## 3.3 Support Vector Machine"
   ]
  },
  {
   "cell_type": "code",
   "execution_count": 71,
   "id": "4702c277",
   "metadata": {},
   "outputs": [],
   "source": [
    "from sklearn.svm import SVC\n",
    "\n",
    "svm = SVC(C = 3, kernel = \"rbf\")\n",
    "\n",
    "SVM_model_test = svm.fit(x_train, y_train)\n",
    "\n",
    "y_pred_svm_test = SVM_model_test.predict(x_test)"
   ]
  },
  {
   "cell_type": "code",
   "execution_count": 72,
   "id": "8973ec3b",
   "metadata": {},
   "outputs": [
    {
     "name": "stdout",
     "output_type": "stream",
     "text": [
      "The jacard score in SVM model   0.735632183908046\n"
     ]
    }
   ],
   "source": [
    "print(\"The jacard score in SVM model  \",accuracy_score(y_test, y_pred_svm_test))"
   ]
  },
  {
   "cell_type": "markdown",
   "id": "79b30649",
   "metadata": {},
   "source": [
    "### Hyperparameter turning for SVM model"
   ]
  },
  {
   "cell_type": "code",
   "execution_count": 105,
   "id": "d45fbe7e",
   "metadata": {},
   "outputs": [
    {
     "name": "stdout",
     "output_type": "stream",
     "text": [
      "Fitting 5 folds for each of 21 candidates, totalling 105 fits\n",
      "[CV 1/5] END ................C=0.01, kernel=rbf;, score=0.000 total time=   0.0s\n",
      "[CV 2/5] END ................C=0.01, kernel=rbf;, score=0.000 total time=   0.0s\n",
      "[CV 3/5] END ................C=0.01, kernel=rbf;, score=0.000 total time=   0.0s\n",
      "[CV 4/5] END ................C=0.01, kernel=rbf;, score=0.000 total time=   0.0s\n",
      "[CV 5/5] END ................C=0.01, kernel=rbf;, score=0.000 total time=   0.0s\n",
      "[CV 1/5] END .............C=0.01, kernel=linear;, score=0.000 total time=   0.0s\n",
      "[CV 2/5] END .............C=0.01, kernel=linear;, score=0.000 total time=   0.0s\n",
      "[CV 3/5] END .............C=0.01, kernel=linear;, score=0.000 total time=   0.0s\n",
      "[CV 4/5] END .............C=0.01, kernel=linear;, score=0.000 total time=   0.0s\n",
      "[CV 5/5] END .............C=0.01, kernel=linear;, score=0.000 total time=   0.0s\n",
      "[CV 1/5] END ...............C=0.01, kernel=poly;, score=0.000 total time=   0.0s\n",
      "[CV 2/5] END ...............C=0.01, kernel=poly;, score=0.000 total time=   0.0s\n",
      "[CV 3/5] END ...............C=0.01, kernel=poly;, score=0.000 total time=   0.0s\n",
      "[CV 4/5] END ...............C=0.01, kernel=poly;, score=0.000 total time=   0.0s\n",
      "[CV 5/5] END ...............C=0.01, kernel=poly;, score=0.000 total time=   0.0s\n",
      "[CV 1/5] END .................C=0.1, kernel=rbf;, score=0.000 total time=   0.0s\n",
      "[CV 2/5] END .................C=0.1, kernel=rbf;, score=0.000 total time=   0.0s\n",
      "[CV 3/5] END .................C=0.1, kernel=rbf;, score=0.000 total time=   0.0s\n",
      "[CV 4/5] END .................C=0.1, kernel=rbf;, score=0.000 total time=   0.0s\n",
      "[CV 5/5] END .................C=0.1, kernel=rbf;, score=0.000 total time=   0.0s\n",
      "[CV 1/5] END ..............C=0.1, kernel=linear;, score=0.000 total time=   0.0s\n",
      "[CV 2/5] END ..............C=0.1, kernel=linear;, score=0.000 total time=   0.0s\n",
      "[CV 3/5] END ..............C=0.1, kernel=linear;, score=0.000 total time=   0.0s\n",
      "[CV 4/5] END ..............C=0.1, kernel=linear;, score=0.000 total time=   0.0s\n",
      "[CV 5/5] END ..............C=0.1, kernel=linear;, score=0.000 total time=   0.0s\n",
      "[CV 1/5] END ................C=0.1, kernel=poly;, score=0.000 total time=   0.0s\n",
      "[CV 2/5] END ................C=0.1, kernel=poly;, score=0.000 total time=   0.0s\n",
      "[CV 3/5] END ................C=0.1, kernel=poly;, score=0.000 total time=   0.0s\n",
      "[CV 4/5] END ................C=0.1, kernel=poly;, score=0.000 total time=   0.0s\n",
      "[CV 5/5] END ................C=0.1, kernel=poly;, score=0.000 total time=   0.0s\n",
      "[CV 1/5] END .................C=0.5, kernel=rbf;, score=0.000 total time=   0.0s\n",
      "[CV 2/5] END .................C=0.5, kernel=rbf;, score=0.000 total time=   0.0s\n",
      "[CV 3/5] END .................C=0.5, kernel=rbf;, score=0.000 total time=   0.0s\n",
      "[CV 4/5] END .................C=0.5, kernel=rbf;, score=0.000 total time=   0.0s\n",
      "[CV 5/5] END .................C=0.5, kernel=rbf;, score=0.000 total time=   0.0s\n",
      "[CV 1/5] END ..............C=0.5, kernel=linear;, score=0.000 total time=   0.0s\n",
      "[CV 2/5] END ..............C=0.5, kernel=linear;, score=0.000 total time=   0.0s\n",
      "[CV 3/5] END ..............C=0.5, kernel=linear;, score=0.000 total time=   0.0s\n",
      "[CV 4/5] END ..............C=0.5, kernel=linear;, score=0.000 total time=   0.0s\n",
      "[CV 5/5] END ..............C=0.5, kernel=linear;, score=0.000 total time=   0.0s\n",
      "[CV 1/5] END ................C=0.5, kernel=poly;, score=0.000 total time=   0.0s\n",
      "[CV 2/5] END ................C=0.5, kernel=poly;, score=0.000 total time=   0.0s\n",
      "[CV 3/5] END ................C=0.5, kernel=poly;, score=0.000 total time=   0.0s\n",
      "[CV 4/5] END ................C=0.5, kernel=poly;, score=0.000 total time=   0.0s\n",
      "[CV 5/5] END ................C=0.5, kernel=poly;, score=0.000 total time=   0.0s\n",
      "[CV 1/5] END ...................C=1, kernel=rbf;, score=0.000 total time=   0.0s\n",
      "[CV 2/5] END ...................C=1, kernel=rbf;, score=0.000 total time=   0.0s\n",
      "[CV 3/5] END ...................C=1, kernel=rbf;, score=0.000 total time=   0.0s\n",
      "[CV 4/5] END ...................C=1, kernel=rbf;, score=0.000 total time=   0.0s\n",
      "[CV 5/5] END ...................C=1, kernel=rbf;, score=0.000 total time=   0.0s\n",
      "[CV 1/5] END ................C=1, kernel=linear;, score=0.000 total time=   0.0s\n",
      "[CV 2/5] END ................C=1, kernel=linear;, score=0.000 total time=   0.0s\n",
      "[CV 3/5] END ................C=1, kernel=linear;, score=0.000 total time=   0.0s\n",
      "[CV 4/5] END ................C=1, kernel=linear;, score=0.000 total time=   0.0s\n",
      "[CV 5/5] END ................C=1, kernel=linear;, score=0.000 total time=   0.0s\n",
      "[CV 1/5] END ..................C=1, kernel=poly;, score=0.133 total time=   0.0s\n",
      "[CV 2/5] END ..................C=1, kernel=poly;, score=0.000 total time=   0.0s\n",
      "[CV 3/5] END ..................C=1, kernel=poly;, score=0.133 total time=   0.0s\n",
      "[CV 4/5] END ..................C=1, kernel=poly;, score=0.000 total time=   0.0s\n",
      "[CV 5/5] END ..................C=1, kernel=poly;, score=0.143 total time=   0.0s\n",
      "[CV 1/5] END ...................C=3, kernel=rbf;, score=0.286 total time=   0.0s\n",
      "[CV 2/5] END ...................C=3, kernel=rbf;, score=0.133 total time=   0.0s\n",
      "[CV 3/5] END ...................C=3, kernel=rbf;, score=0.133 total time=   0.0s\n",
      "[CV 4/5] END ...................C=3, kernel=rbf;, score=0.118 total time=   0.0s\n",
      "[CV 5/5] END ...................C=3, kernel=rbf;, score=0.000 total time=   0.0s\n",
      "[CV 1/5] END ................C=3, kernel=linear;, score=0.000 total time=   0.0s\n",
      "[CV 2/5] END ................C=3, kernel=linear;, score=0.000 total time=   0.0s\n",
      "[CV 3/5] END ................C=3, kernel=linear;, score=0.000 total time=   0.0s\n",
      "[CV 4/5] END ................C=3, kernel=linear;, score=0.000 total time=   0.0s\n",
      "[CV 5/5] END ................C=3, kernel=linear;, score=0.000 total time=   0.0s\n",
      "[CV 1/5] END ..................C=3, kernel=poly;, score=0.333 total time=   0.0s\n",
      "[CV 2/5] END ..................C=3, kernel=poly;, score=0.250 total time=   0.0s\n",
      "[CV 3/5] END ..................C=3, kernel=poly;, score=0.118 total time=   0.0s\n",
      "[CV 4/5] END ..................C=3, kernel=poly;, score=0.000 total time=   0.0s\n",
      "[CV 5/5] END ..................C=3, kernel=poly;, score=0.111 total time=   0.0s\n",
      "[CV 1/5] END ...................C=5, kernel=rbf;, score=0.273 total time=   0.0s\n",
      "[CV 2/5] END ...................C=5, kernel=rbf;, score=0.250 total time=   0.0s\n",
      "[CV 3/5] END ...................C=5, kernel=rbf;, score=0.125 total time=   0.0s\n",
      "[CV 4/5] END ...................C=5, kernel=rbf;, score=0.200 total time=   0.0s\n",
      "[CV 5/5] END ...................C=5, kernel=rbf;, score=0.000 total time=   0.0s\n",
      "[CV 1/5] END ................C=5, kernel=linear;, score=0.000 total time=   0.0s\n",
      "[CV 2/5] END ................C=5, kernel=linear;, score=0.000 total time=   0.0s\n",
      "[CV 3/5] END ................C=5, kernel=linear;, score=0.000 total time=   0.0s\n",
      "[CV 4/5] END ................C=5, kernel=linear;, score=0.000 total time=   0.0s\n",
      "[CV 5/5] END ................C=5, kernel=linear;, score=0.000 total time=   0.0s\n",
      "[CV 1/5] END ..................C=5, kernel=poly;, score=0.381 total time=   0.0s\n",
      "[CV 2/5] END ..................C=5, kernel=poly;, score=0.250 total time=   0.0s\n",
      "[CV 3/5] END ..................C=5, kernel=poly;, score=0.111 total time=   0.0s\n",
      "[CV 4/5] END ..................C=5, kernel=poly;, score=0.000 total time=   0.0s\n",
      "[CV 5/5] END ..................C=5, kernel=poly;, score=0.111 total time=   0.0s\n",
      "[CV 1/5] END ..................C=10, kernel=rbf;, score=0.250 total time=   0.0s\n",
      "[CV 2/5] END ..................C=10, kernel=rbf;, score=0.250 total time=   0.0s\n",
      "[CV 3/5] END ..................C=10, kernel=rbf;, score=0.300 total time=   0.0s\n",
      "[CV 4/5] END ..................C=10, kernel=rbf;, score=0.273 total time=   0.0s\n",
      "[CV 5/5] END ..................C=10, kernel=rbf;, score=0.286 total time=   0.0s\n",
      "[CV 1/5] END ...............C=10, kernel=linear;, score=0.000 total time=   0.0s\n",
      "[CV 2/5] END ...............C=10, kernel=linear;, score=0.000 total time=   0.0s\n",
      "[CV 3/5] END ...............C=10, kernel=linear;, score=0.000 total time=   0.0s\n",
      "[CV 4/5] END ...............C=10, kernel=linear;, score=0.000 total time=   0.0s\n",
      "[CV 5/5] END ...............C=10, kernel=linear;, score=0.000 total time=   0.0s\n",
      "[CV 1/5] END .................C=10, kernel=poly;, score=0.381 total time=   0.0s\n",
      "[CV 2/5] END .................C=10, kernel=poly;, score=0.250 total time=   0.0s\n",
      "[CV 3/5] END .................C=10, kernel=poly;, score=0.286 total time=   0.0s\n",
      "[CV 4/5] END .................C=10, kernel=poly;, score=0.211 total time=   0.0s\n",
      "[CV 5/5] END .................C=10, kernel=poly;, score=0.211 total time=   0.0s\n",
      "Best: 0.271688 using {'C': 10, 'kernel': 'rbf'}\n"
     ]
    }
   ],
   "source": [
    "param_grid = {'C': [0.01, 0.1, 0.5, 1,3, 5, 10], \n",
    "              'kernel': [\"rbf\", \"linear\", \"poly\"]}\n",
    "SVM_model_grid = SVC()\n",
    "\n",
    "grid_SVM = GridSearchCV(SVM_model_grid, \n",
    "                        param_grid, \n",
    "                        refit = True, \n",
    "                        verbose = 3,\n",
    "                        scoring = \"f1\")\n",
    "  \n",
    "grid_SVM.fit(x_train, y_train)\n",
    "\n",
    "print(\"Best: %f using %s\" % (grid_SVM.best_score_, grid_SVM.best_params_))"
   ]
  },
  {
   "cell_type": "markdown",
   "id": "1713b763",
   "metadata": {},
   "source": [
    "### Using C = 5 and kernel = poly maybe to fit dataset"
   ]
  },
  {
   "cell_type": "code",
   "execution_count": 113,
   "id": "15081611",
   "metadata": {},
   "outputs": [],
   "source": [
    "svm_model = SVC(C = 5, kernel = \"poly\")\n",
    "\n",
    "svm_model.fit(x_train, y_train)\n",
    "\n",
    "y_pred_svm =svm_model.predict(x_test)"
   ]
  },
  {
   "cell_type": "code",
   "execution_count": 114,
   "id": "f949ee10",
   "metadata": {},
   "outputs": [],
   "source": [
    "f1_score_svm = f1_score(y_test, y_pred_svm)\n",
    "jaccard_score_svm = jaccard_score(y_test, y_pred_svm)\n",
    "log_loss_svm = log_loss(y_test, y_pred_svm)"
   ]
  },
  {
   "cell_type": "code",
   "execution_count": 115,
   "id": "1fce5338",
   "metadata": {},
   "outputs": [
    {
     "name": "stdout",
     "output_type": "stream",
     "text": [
      "F1_score value in Support Vector Machine model: 0.4118\n",
      "Jaccard score value in SVM model: 0.2593\n",
      "Log loss value in SVM model: 7.94\n"
     ]
    }
   ],
   "source": [
    "print(\"F1_score value in Support Vector Machine model:\", round(f1_score_svm, 4))\n",
    "print(\"Jaccard score value in SVM model:\", round(jaccard_score_svm, 4))\n",
    "print(\"Log loss value in SVM model:\", round(log_loss_svm, 4))"
   ]
  },
  {
   "cell_type": "code",
   "execution_count": 116,
   "id": "3a2ca72c",
   "metadata": {},
   "outputs": [
    {
     "data": {
      "image/png": "[encoded data removed]",
      "text/plain": [
       "<Figure size 432x288 with 2 Axes>"
      ]
     },
     "metadata": {
      "needs_background": "light"
     },
     "output_type": "display_data"
    }
   ],
   "source": [
    "confusion_matrix_svm = plot_confusion_matrix(svm_model, x_test, y_test)"
   ]
  },
  {
   "cell_type": "markdown",
   "id": "8312edfd",
   "metadata": {},
   "source": [
    "## 3.4 Logistic Regression"
   ]
  },
  {
   "cell_type": "code",
   "execution_count": 117,
   "id": "bf7ca158",
   "metadata": {},
   "outputs": [],
   "source": [
    "from sklearn.linear_model import LogisticRegression\n",
    "log_reg = LogisticRegression(C = 3, solver = \"liblinear\")\n",
    "\n",
    "log_reg_model_test = log_reg.fit(x_train, y_train)\n",
    "\n",
    "y_pred_logistic_test = log_reg_model_test.predict(x_test)"
   ]
  },
  {
   "cell_type": "code",
   "execution_count": 118,
   "id": "d3d4584f",
   "metadata": {},
   "outputs": [
    {
     "name": "stdout",
     "output_type": "stream",
     "text": [
      "The jacard score in Logistic Regression model   0.7471264367816092\n"
     ]
    }
   ],
   "source": [
    "print(\"The jacard score in Logistic Regression model  \",accuracy_score(y_test, y_pred_logistic_test))"
   ]
  },
  {
   "cell_type": "markdown",
   "id": "a634db9a",
   "metadata": {},
   "source": [
    "### Hyperparameter in Logistic Regression"
   ]
  },
  {
   "cell_type": "code",
   "execution_count": 131,
   "id": "d4667366",
   "metadata": {},
   "outputs": [
    {
     "name": "stdout",
     "output_type": "stream",
     "text": [
      "Fitting 30 folds for each of 21 candidates, totalling 630 fits\n",
      "Best: 0.007407 using {'C': 0.5, 'penalty': 'l2', 'solver': 'liblinear'}\n"
     ]
    }
   ],
   "source": [
    "model_logistic = LogisticRegression()\n",
    "\n",
    "solvers = ['newton-cg', 'lbfgs', 'liblinear']\n",
    "\n",
    "penalty = ['l2']\n",
    "\n",
    "c_values = [0.01, 0.1, 0.5, 1, 2, 5, 10]\n",
    "\n",
    "# define grid search\n",
    "grid = dict(solver = solvers, penalty = penalty, C = c_values)\n",
    "\n",
    "cv = RepeatedStratifiedKFold(n_splits = 10, n_repeats = 3, random_state  =1)\n",
    "\n",
    "grid_search = GridSearchCV(estimator = model_logistic, \n",
    "                           param_grid = grid, \n",
    "                           n_jobs = -1, \n",
    "                           cv = cv,\n",
    "                           refit = True,\n",
    "                           scoring = 'f1',\n",
    "                           verbose = 3)\n",
    "\n",
    "grid_result_logistic = grid_search.fit(x_train, y_train)\n",
    "\n",
    "print(\"Best: %f using %s\" % (grid_result_logistic.best_score_, grid_result_logistic.best_params_))\n"
   ]
  },
  {
   "cell_type": "code",
   "execution_count": 154,
   "id": "404f2b53",
   "metadata": {},
   "outputs": [],
   "source": [
    "log_reg_model = LogisticRegression(C = 0.5, solver =\"liblinear\", penalty = 'l2')\n",
    "\n",
    "log_reg_model.fit(x_train, y_train)\n",
    "\n",
    "y_pred_logistic = log_reg_model.predict(x_test)"
   ]
  },
  {
   "cell_type": "code",
   "execution_count": 155,
   "id": "7f2dd892",
   "metadata": {},
   "outputs": [],
   "source": [
    "f1_score_logistic = f1_score(y_test, y_pred_logistic)\n",
    "jaccard_score_logistic = jaccard_score(y_test, y_pred_logistic)\n",
    "log_loss_logistic = log_loss(y_test, y_pred_logistic)"
   ]
  },
  {
   "cell_type": "code",
   "execution_count": 156,
   "id": "08cd8dc9",
   "metadata": {},
   "outputs": [
    {
     "name": "stdout",
     "output_type": "stream",
     "text": [
      "F1_score value in Logistic regression model: 0.0\n",
      "Jaccard score value in Logistic regression model: 0.0\n",
      "Log loss value in logistic regression model: 8.7339\n"
     ]
    }
   ],
   "source": [
    "print(\"F1_score value in Logistic regression model:\", round(f1_score_logistic, 4))\n",
    "print(\"Jaccard score value in Logistic regression model:\", round(jaccard_score_logistic, 4))\n",
    "print(\"Log loss value in logistic regression model:\", round(log_loss_logistic, 4))"
   ]
  },
  {
   "cell_type": "code",
   "execution_count": 157,
   "id": "1e043dda",
   "metadata": {},
   "outputs": [
    {
     "data": {
      "image/png": "[encoded data removed]",
      "text/plain": [
       "<Figure size 432x288 with 2 Axes>"
      ]
     },
     "metadata": {
      "needs_background": "light"
     },
     "output_type": "display_data"
    }
   ],
   "source": [
    "confusion_matrix_logistic = plot_confusion_matrix(log_reg_model, x_test, y_test)"
   ]
  },
  {
   "cell_type": "markdown",
   "id": "d1b3f844",
   "metadata": {},
   "source": [
    "# 4. EVALUATION AND COMPARISE MODELING"
   ]
  },
  {
   "cell_type": "code",
   "execution_count": 136,
   "id": "81561c5a",
   "metadata": {},
   "outputs": [],
   "source": [
    "\n",
    "data_model= [[\"KNN\", f1_score_KNN, jaccard_score_KNN, log_loss_KNN],\n",
    "             [\"Decision Tree\", f1_score_tree, jaccard_score_tree, log_loss_tree],\n",
    "             [\"SVM\", f1_score_svm, jaccard_score_svm, log_loss_svm],\n",
    "             [\"Logistic Regression\", f1_score_logistic, jaccard_score_logistic, log_loss_logistic]]\n",
    "df_data_model = pd.DataFrame(data_model, columns = [\"Model\", \"F1 Score\", \"Jaccard Score\", \"Log Loss Score\"])"
   ]
  },
  {
   "cell_type": "code",
   "execution_count": 137,
   "id": "c8f84d13",
   "metadata": {},
   "outputs": [
    {
     "data": {
      "text/html": [
       "<div>\n",
       "<style scoped>\n",
       "    .dataframe tbody tr th:only-of-type {\n",
       "        vertical-align: middle;\n",
       "    }\n",
       "\n",
       "    .dataframe tbody tr th {\n",
       "        vertical-align: top;\n",
       "    }\n",
       "\n",
       "    .dataframe thead th {\n",
       "        text-align: right;\n",
       "    }\n",
       "</style>\n",
       "<table border=\"1\" class=\"dataframe\">\n",
       "  <thead>\n",
       "    <tr style=\"text-align: right;\">\n",
       "      <th></th>\n",
       "      <th>Model</th>\n",
       "      <th>F1 Score</th>\n",
       "      <th>Jaccard Score</th>\n",
       "      <th>Log Loss Score</th>\n",
       "    </tr>\n",
       "  </thead>\n",
       "  <tbody>\n",
       "    <tr>\n",
       "      <th>0</th>\n",
       "      <td>KNN</td>\n",
       "      <td>0.388889</td>\n",
       "      <td>0.241379</td>\n",
       "      <td>8.734008</td>\n",
       "    </tr>\n",
       "    <tr>\n",
       "      <th>1</th>\n",
       "      <td>Decision Tree</td>\n",
       "      <td>0.400000</td>\n",
       "      <td>0.250000</td>\n",
       "      <td>9.528030</td>\n",
       "    </tr>\n",
       "    <tr>\n",
       "      <th>2</th>\n",
       "      <td>SVM</td>\n",
       "      <td>0.411765</td>\n",
       "      <td>0.259259</td>\n",
       "      <td>7.939995</td>\n",
       "    </tr>\n",
       "    <tr>\n",
       "      <th>3</th>\n",
       "      <td>Logistic Regression</td>\n",
       "      <td>0.000000</td>\n",
       "      <td>0.000000</td>\n",
       "      <td>8.733943</td>\n",
       "    </tr>\n",
       "  </tbody>\n",
       "</table>\n",
       "</div>"
      ],
      "text/plain": [
       "                 Model  F1 Score  Jaccard Score  Log Loss Score\n",
       "0                  KNN  0.388889       0.241379        8.734008\n",
       "1        Decision Tree  0.400000       0.250000        9.528030\n",
       "2                  SVM  0.411765       0.259259        7.939995\n",
       "3  Logistic Regression  0.000000       0.000000        8.733943"
      ]
     },
     "execution_count": 137,
     "metadata": {},
     "output_type": "execute_result"
    }
   ],
   "source": [
    "df_data_model"
   ]
  },
  {
   "cell_type": "code",
   "execution_count": 138,
   "id": "c5f868e0",
   "metadata": {},
   "outputs": [
    {
     "data": {
      "text/plain": [
       "<AxesSubplot:xlabel='Model', ylabel='F1 Score'>"
      ]
     },
     "execution_count": 138,
     "metadata": {},
     "output_type": "execute_result"
    },
    {
     "data": {
      "image/png": "[encoded data removed]",
      "text/plain": [
       "<Figure size 432x288 with 1 Axes>"
      ]
     },
     "metadata": {
      "needs_background": "light"
     },
     "output_type": "display_data"
    }
   ],
   "source": [
    "sns.barplot(x = \"Model\", y = \"F1 Score\", data = df_data_model)"
   ]
  },
  {
   "cell_type": "code",
   "execution_count": 139,
   "id": "eb8ad26e",
   "metadata": {},
   "outputs": [
    {
     "data": {
      "text/plain": [
       "<AxesSubplot:xlabel='Model', ylabel='Jaccard Score'>"
      ]
     },
     "execution_count": 139,
     "metadata": {},
     "output_type": "execute_result"
    },
    {
     "data": {
      "image/png": "[encoded data removed]",
      "text/plain": [
       "<Figure size 432x288 with 1 Axes>"
      ]
     },
     "metadata": {
      "needs_background": "light"
     },
     "output_type": "display_data"
    }
   ],
   "source": [
    "sns.barplot(x = \"Model\", y = \"Jaccard Score\", data = df_data_model)"
   ]
  },
  {
   "cell_type": "code",
   "execution_count": 140,
   "id": "e768f55e",
   "metadata": {},
   "outputs": [
    {
     "data": {
      "text/plain": [
       "<AxesSubplot:xlabel='Model', ylabel='Log Loss Score'>"
      ]
     },
     "execution_count": 140,
     "metadata": {},
     "output_type": "execute_result"
    },
    {
     "data": {
      "image/png": "[encoded data removed]",
      "text/plain": [
       "<Figure size 432x288 with 1 Axes>"
      ]
     },
     "metadata": {
      "needs_background": "light"
     },
     "output_type": "display_data"
    }
   ],
   "source": [
    "sns.barplot(x = \"Model\", y = \"Log Loss Score\", data = df_data_model)"
   ]
  },
  {
   "cell_type": "markdown",
   "id": "1ba79e17",
   "metadata": {},
   "source": [
    "### After evaluating the model using F1 score, Jaccard score, Log-loss score, the best model to classification loan status is Support Vector Machine model."
   ]
  },
  {
   "cell_type": "markdown",
   "id": "f95dba64",
   "metadata": {},
   "source": [
    "# THE END"
   ]
  }
 ],
 "metadata": {
  "kernelspec": {
   "display_name": "Python 3",
   "language": "python",
   "name": "python3"
  },
  "language_info": {
   "codemirror_mode": {
    "name": "ipython",
    "version": 3
   },
   "file_extension": ".py",
   "mimetype": "text/x-python",
   "name": "python",
   "nbconvert_exporter": "python",
   "pygments_lexer": "ipython3",
   "version": "3.8.10"
  }
 },
 "nbformat": 4,
 "nbformat_minor": 5
}
